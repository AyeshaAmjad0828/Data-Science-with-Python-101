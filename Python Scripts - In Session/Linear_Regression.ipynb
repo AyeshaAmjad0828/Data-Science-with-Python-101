{
  "nbformat": 4,
  "nbformat_minor": 0,
  "metadata": {
    "colab": {
      "provenance": []
    },
    "kernelspec": {
      "name": "python3",
      "display_name": "Python 3"
    },
    "language_info": {
      "name": "python"
    }
  },
  "cells": [
    {
      "cell_type": "markdown",
      "source": [
        "## Load Important Libraries"
      ],
      "metadata": {
        "id": "cBot6_A6TTpf"
      }
    },
    {
      "cell_type": "code",
      "source": [
        "from sklearn.linear_model import LinearRegression\n",
        "from sklearn.metrics import mean_squared_error, r2_score\n",
        "from sklearn.model_selection import train_test_split\n",
        "import pandas as pd\n",
        "import matplotlib.pyplot as plt\n",
        "import statsmodels.api as sm"
      ],
      "metadata": {
        "id": "E_wERju1TYH0"
      },
      "execution_count": 1,
      "outputs": []
    },
    {
      "cell_type": "markdown",
      "source": [
        "## Single Variable Regression\n",
        "\n",
        "Use only one feature to regress a model."
      ],
      "metadata": {
        "id": "lm25YYFZgL-v"
      }
    },
    {
      "cell_type": "markdown",
      "source": [
        "### Task# 1\n",
        "\n",
        "a. Fabicate some data that shows a roughly linear relationship between page speed and amount purchase.\n",
        "\n",
        "b. Fit a simple linear regression model on this data.\n",
        "\n",
        "c. Plot regression line on top of the scatter plot of fabricated data.\n",
        "\n",
        "d. report R-squared value.\n"
      ],
      "metadata": {
        "id": "aFNdujHrgXJg"
      }
    },
    {
      "cell_type": "markdown",
      "source": [
        "### Task# 2\n",
        "\n",
        "a. Load advertising data from: https://raw.githubusercontent.com/AyeshaAmjad0828/Data-Science-with-Python-101/main/Datasets/Advertising.csv\n",
        "\n",
        "b. Fit a simple linear regression model on this data using TV and Sales.\n",
        "\n",
        "c. Print evaluation metrics 'mean-squared error' and 'coefficient of determination'"
      ],
      "metadata": {
        "id": "4StN9JcvP_bz"
      }
    },
    {
      "cell_type": "markdown",
      "source": [
        "## Multiple Linear Regression - Sklearn\n",
        "\n",
        "Add more than one feature to the linear model\n"
      ],
      "metadata": {
        "id": "LSXoCjyPP_j3"
      }
    },
    {
      "cell_type": "markdown",
      "source": [
        "### Task# 3\n",
        "\n",
        "a. Repeat Task#2 now with TV and social media.\n",
        "\n",
        "b. Print evaluation metrics."
      ],
      "metadata": {
        "id": "v2TrW7Y5P_m5"
      }
    },
    {
      "cell_type": "markdown",
      "source": [
        "### Task# 4\n",
        "\n",
        "a. Repeat Task#4 now with test/train split.\n",
        "\n",
        "b. Print evaluation metrics.\n",
        "\n",
        "c. Do you see any improvement in some evalution metrics?"
      ],
      "metadata": {
        "id": "YtSYbnFpP_px"
      }
    },
    {
      "cell_type": "markdown",
      "source": [
        "## Multiple Linear Regression - Statsmodel"
      ],
      "metadata": {
        "id": "r8xNjNm9Tl3m"
      }
    },
    {
      "cell_type": "markdown",
      "source": [
        "### Task# 5\n",
        "\n",
        "Fit OLS regression on advertising data and print a model summary."
      ],
      "metadata": {
        "id": "90tXiQSuTr0t"
      }
    },
    {
      "cell_type": "markdown",
      "source": [
        "### Task# 6 (Interaction Model)\n",
        "\n",
        "a. Create a new variable by combining TV and Social Media variables.\n",
        "\n",
        "b. Fit OLS regression on advertising data and print a model summary.\n",
        "\n",
        "c. Do you observe any improvement in an evaluation metric?"
      ],
      "metadata": {
        "id": "tX1T6bZ_Vr23"
      }
    },
    {
      "cell_type": "markdown",
      "source": [
        "## Polynomial Regression\n",
        "\n",
        "What if your data doesn't look linear at all? Let's look at some more realistic-looking page speed / purchase data"
      ],
      "metadata": {
        "id": "3Bf6n3ZxVr-T"
      }
    },
    {
      "cell_type": "markdown",
      "source": [
        "### Task# 7\n",
        "\n",
        "a. Fabicate some data that shows a polynomial relationship between page speed and amount purchase.\n",
        "\n",
        "b. Fit a 4 degree polynomial line of fit on this data.\n",
        "\n",
        "c. Report R-squared value.\n"
      ],
      "metadata": {
        "id": "0YUrj5Y6VsFX"
      }
    },
    {
      "cell_type": "markdown",
      "source": [
        "### Task# 8\n",
        "\n",
        "a. Create polynomial features of advertising dataset that includes both interaction terms and sqaured features.\n",
        "\n",
        "b. Fit OLS regression and print a model summary.\n",
        "\n",
        "c. Is the model better off or worse off according to the evaluation metric?"
      ],
      "metadata": {
        "id": "-0grpnn_XbBq"
      }
    },
    {
      "cell_type": "code",
      "source": [
        "from sklearn.preprocessing import PolynomialFeatures"
      ],
      "metadata": {
        "id": "qNrfOHk0Xg0D"
      },
      "execution_count": 2,
      "outputs": []
    },
    {
      "cell_type": "markdown",
      "source": [
        "## Feature Selection - FORWARD SELECTION"
      ],
      "metadata": {
        "id": "aab5VtNaXbPp"
      }
    },
    {
      "cell_type": "code",
      "execution_count": 3,
      "metadata": {
        "id": "qi1AcAmEX_0y"
      },
      "outputs": [],
      "source": [
        "from sklearn.feature_selection import SequentialFeatureSelector"
      ]
    },
    {
      "cell_type": "markdown",
      "source": [
        "### Task# 9\n",
        "\n",
        "a. Load Boston crime rate data from: https://raw.githubusercontent.com/AyeshaAmjad0828/Data-Science-with-Python-101/main/Datasets/Boston.csv\n",
        "\n",
        "b. Print its shape, columns, and info.\n",
        "\n",
        "c. Drop s_no and medv.\n",
        "\n",
        "d. Assign X and Y variables.\n",
        "\n",
        "e. Fit OLS regression on the cleaned data."
      ],
      "metadata": {
        "id": "DO6yjg_DYMcZ"
      }
    },
    {
      "cell_type": "markdown",
      "source": [
        "### Task# 10\n",
        "\n",
        "a. Perfrom forward selection for Boston crime data linear model.\n",
        "\n",
        "b. What features are the most impactful?\n"
      ],
      "metadata": {
        "id": "KjyzzPylYMfi"
      }
    },
    {
      "cell_type": "markdown",
      "source": [
        "### Task# 11\n",
        "\n",
        "a. Perfrom backward selection for Boston crime data linear model.\n",
        "\n",
        "b. What features are the most impactful?"
      ],
      "metadata": {
        "id": "fEL_J5t7YMiY"
      }
    },
    {
      "cell_type": "markdown",
      "source": [],
      "metadata": {
        "id": "w5mZpG62YMk-"
      }
    },
    {
      "cell_type": "markdown",
      "source": [],
      "metadata": {
        "id": "Qw9P8TeEYMoY"
      }
    },
    {
      "cell_type": "code",
      "source": [],
      "metadata": {
        "id": "WTG4Rh-gYLsw"
      },
      "execution_count": null,
      "outputs": []
    }
  ]
}