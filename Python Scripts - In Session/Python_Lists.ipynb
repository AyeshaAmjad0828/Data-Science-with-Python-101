{
  "nbformat": 4,
  "nbformat_minor": 0,
  "metadata": {
    "colab": {
      "provenance": []
    },
    "kernelspec": {
      "name": "python3",
      "display_name": "Python 3"
    },
    "language_info": {
      "name": "python"
    }
  },
  "cells": [
    {
      "cell_type": "markdown",
      "source": [
        "#PYTHON LISTS"
      ],
      "metadata": {
        "id": "_Udetj7I9N80"
      }
    },
    {
      "cell_type": "markdown",
      "source": [
        "**SIMPLE PYTHON LIST**"
      ],
      "metadata": {
        "id": "5URNDD792Y_f"
      }
    },
    {
      "cell_type": "markdown",
      "source": [
        "Task# 1\n",
        "\n",
        "a. Create a variable pi_string with “3.1415926” value. print the type of\n",
        "pi_string.\n",
        "\n",
        "b. Convert the variable pi_string to a float and store this float as a new\n",
        "variable, pi_float. print the type of pi_float.\n",
        "\n"
      ],
      "metadata": {
        "id": "5PLR7OQ80P-6"
      }
    },
    {
      "cell_type": "code",
      "source": [
        "pi_string = '3.1415926'\n",
        "type(pi_string)"
      ],
      "metadata": {
        "colab": {
          "base_uri": "https://localhost:8080/"
        },
        "id": "6yfl2ufONqOV",
        "outputId": "a117bd37-2e3a-461a-f88a-defc913388a6"
      },
      "execution_count": null,
      "outputs": [
        {
          "output_type": "execute_result",
          "data": {
            "text/plain": [
              "str"
            ]
          },
          "metadata": {},
          "execution_count": 1
        }
      ]
    },
    {
      "cell_type": "code",
      "source": [
        "pi_float = float(pi_string)\n",
        "type(pi_float)"
      ],
      "metadata": {
        "colab": {
          "base_uri": "https://localhost:8080/"
        },
        "id": "PO7AD87SOOof",
        "outputId": "aa12bd2a-8af2-419b-f689-8f43369ce204"
      },
      "execution_count": null,
      "outputs": [
        {
          "output_type": "execute_result",
          "data": {
            "text/plain": [
              "float"
            ]
          },
          "metadata": {},
          "execution_count": 3
        }
      ]
    },
    {
      "cell_type": "markdown",
      "source": [
        "Task# 2\n",
        "\n",
        "a. Create variables for areas of different parts of your house and assign random values to it (e.g. hall, kitchen, living room, bedroom, bathroom).\n"
      ],
      "metadata": {
        "id": "zstJOsqb0Q0-"
      }
    },
    {
      "cell_type": "code",
      "source": [
        "hall = 12.8\n",
        "kit = 10.0\n",
        "liv = 20.0\n",
        "bath = 9.61\n",
        "bedr = 10.2"
      ],
      "metadata": {
        "id": "s3oXsijHO96H"
      },
      "execution_count": null,
      "outputs": []
    },
    {
      "cell_type": "markdown",
      "source": [
        "Task# 3\n",
        "\n",
        "a. Create a list containing areas of different parts of a house. Use the predefined variables.\n",
        "Print areas with the print() function.\n"
      ],
      "metadata": {
        "id": "i6X6B_Pn0Q8I"
      }
    },
    {
      "cell_type": "code",
      "source": [
        "area = [hall, kit, liv, bath, bedr]\n",
        "area"
      ],
      "metadata": {
        "colab": {
          "base_uri": "https://localhost:8080/"
        },
        "id": "tLcFcHLaPYUK",
        "outputId": "c2af0efb-d6ab-4fb9-8f1f-5458f9147325"
      },
      "execution_count": null,
      "outputs": [
        {
          "output_type": "execute_result",
          "data": {
            "text/plain": [
              "[12.8, 10.0, 20.0, 9.61, 10.2]"
            ]
          },
          "metadata": {},
          "execution_count": 10
        }
      ]
    },
    {
      "cell_type": "markdown",
      "source": [
        "Task# 4\n",
        "\n",
        "a. Finish the line of code that creates the areas list. Build the list so that the\n",
        "list first contains the name of each room as a string and then its area. In\n",
        "other words, add the strings \"hallway\", \"kitchen\" and \"bedroom\" at\n",
        "the appropriate locations. Print areas again.\n"
      ],
      "metadata": {
        "id": "FaU8ghbw0Q_H"
      }
    },
    {
      "cell_type": "code",
      "source": [
        "area = [\"hallway\",hall, 'kitchen',kit, 'bedroom',bedr]\n",
        "area"
      ],
      "metadata": {
        "colab": {
          "base_uri": "https://localhost:8080/"
        },
        "id": "zzMK6I4tQBaU",
        "outputId": "5ba953f4-08f2-477d-f94d-61258c28c8f2"
      },
      "execution_count": null,
      "outputs": [
        {
          "output_type": "execute_result",
          "data": {
            "text/plain": [
              "['hallway', 12.8, 'kitchen', 10.0, 'bedroom', 10.2]"
            ]
          },
          "metadata": {},
          "execution_count": 11
        }
      ]
    },
    {
      "cell_type": "code",
      "source": [
        "areas=[\"hallway\",hall,\"kitchen\",kit,\"living room\",liv,\"bedroom\",bedr,\"bathroom\",bath]\n"
      ],
      "metadata": {
        "id": "Cx5e06DURopc"
      },
      "execution_count": null,
      "outputs": []
    },
    {
      "cell_type": "code",
      "source": [
        "print(\"hallway: \" + str(hall))"
      ],
      "metadata": {
        "colab": {
          "base_uri": "https://localhost:8080/"
        },
        "id": "ToFbfK76Q2EB",
        "outputId": "ce153c3d-28c6-4edf-804f-f1a4ef9f054a"
      },
      "execution_count": null,
      "outputs": [
        {
          "output_type": "stream",
          "name": "stdout",
          "text": [
            "hallway: 12.8\n"
          ]
        }
      ]
    },
    {
      "cell_type": "markdown",
      "source": [
        "**NESTED LISTS (LIST OF LISTS)**"
      ],
      "metadata": {
        "id": "OY2Uewzz0REe"
      }
    },
    {
      "cell_type": "code",
      "source": [
        "students = ['sarah', 'afnan', 'abdullah']\n",
        "heights = [1.6, 1.78, 1.8]"
      ],
      "metadata": {
        "id": "YZtE36fWSCiy"
      },
      "execution_count": null,
      "outputs": []
    },
    {
      "cell_type": "code",
      "source": [
        "nested_list = [students, heights]\n",
        "nested_list"
      ],
      "metadata": {
        "colab": {
          "base_uri": "https://localhost:8080/"
        },
        "id": "8CO4mf1gSUdT",
        "outputId": "2f8064dd-62a4-4ab2-e3a6-0fc205645d42"
      },
      "execution_count": null,
      "outputs": [
        {
          "output_type": "execute_result",
          "data": {
            "text/plain": [
              "[['sarah', 'afnan', 'abdullah'], [1.6, 1.78, 1.8]]"
            ]
          },
          "metadata": {},
          "execution_count": 18
        }
      ]
    },
    {
      "cell_type": "markdown",
      "source": [
        "Task# 5\n",
        "\n",
        "Can you structure the house data as a list of list. Create a List Called house and also print the type of the list.\n",
        "hall=11.25\n",
        "kit=18.0\n",
        "liv=20.0\n",
        "bed=10.75\n",
        "bath=9.50\n",
        "\n",
        "Your Output Should Look Like This:\n",
        "\n",
        " [['hallway', 11.25], ['kitchen', 18.0], ['living room', 20.0], ['bedroom', 10.75], ['bathroom', 9.5]]\n"
      ],
      "metadata": {
        "id": "OGfWj7ou0RGt"
      }
    },
    {
      "cell_type": "markdown",
      "source": [
        "TASK# 6\n",
        "\n",
        "areas=[\"hallway\",11.25,\"kitchen\",18.0,\"living Room\",20.0,\"bedroom\",10.75,\"bathroom\",9.50]\n",
        "\n",
        "a. Print out the second element from the areas list:\n",
        "\n",
        "b. Print out the last element of areas.\n",
        "\n"
      ],
      "metadata": {
        "id": "tRk85nC90RJF"
      }
    },
    {
      "cell_type": "code",
      "source": [
        "areas=[\"hallway\",11.25,\"kitchen\",18.0,\"living Room\",20.0,\"bedroom\",10.75,\"bathroom\",9.50]"
      ],
      "metadata": {
        "id": "_S7iLCInSrRK"
      },
      "execution_count": null,
      "outputs": []
    },
    {
      "cell_type": "code",
      "source": [
        "areas[1]"
      ],
      "metadata": {
        "colab": {
          "base_uri": "https://localhost:8080/"
        },
        "id": "0m5OH_7_SzIT",
        "outputId": "5d43ba3f-cf86-444a-bdc0-30182d8b825e"
      },
      "execution_count": null,
      "outputs": [
        {
          "output_type": "execute_result",
          "data": {
            "text/plain": [
              "11.25"
            ]
          },
          "metadata": {},
          "execution_count": 20
        }
      ]
    },
    {
      "cell_type": "markdown",
      "source": [
        "TASK# 7\n",
        "\n",
        "areas=[\"hallway\",11.25,\"kitchen\",18.0,\"living Room\",20.0,\"bedroom\",10.75,\"bathroom\",9.50]\n",
        "\n",
        "a. Use slicing to create a list, downstairs, that contains the first 6 elements of areas.\n",
        "Print downstairs using print().\n",
        "\n",
        "\n",
        "b. Do a similar thing to create a new variable, upstairs, that contains the last 4\n",
        "elements of areas.\n",
        "Print upstairs using print()."
      ],
      "metadata": {
        "id": "0_AEWg8i0RLW"
      }
    },
    {
      "cell_type": "code",
      "source": [
        "areas[-4:]"
      ],
      "metadata": {
        "colab": {
          "base_uri": "https://localhost:8080/"
        },
        "id": "mOiL8TDFUtxM",
        "outputId": "e41c6b04-1169-4d94-ef65-66dd14671fd6"
      },
      "execution_count": null,
      "outputs": [
        {
          "output_type": "execute_result",
          "data": {
            "text/plain": [
              "['bedroom', 10.75, 'bathroom', 9.5]"
            ]
          },
          "metadata": {},
          "execution_count": 27
        }
      ]
    },
    {
      "cell_type": "code",
      "source": [
        "areas[0:6]"
      ],
      "metadata": {
        "colab": {
          "base_uri": "https://localhost:8080/"
        },
        "id": "Z3Gm8sKGTKgb",
        "outputId": "1070c193-cffb-48cf-cfcc-7cf1284799db"
      },
      "execution_count": null,
      "outputs": [
        {
          "output_type": "execute_result",
          "data": {
            "text/plain": [
              "['hallway', 11.25, 'kitchen', 18.0, 'living Room', 20.0]"
            ]
          },
          "metadata": {},
          "execution_count": 22
        }
      ]
    },
    {
      "cell_type": "code",
      "source": [
        "areas[:6]"
      ],
      "metadata": {
        "colab": {
          "base_uri": "https://localhost:8080/"
        },
        "id": "DGPkIqX2T7zT",
        "outputId": "a38a74cd-d63a-485d-b0ae-5d2b1a13cf59"
      },
      "execution_count": null,
      "outputs": [
        {
          "output_type": "execute_result",
          "data": {
            "text/plain": [
              "['hallway', 12.8, 'kitchen', 10.0, 'bedroom', 10.2]"
            ]
          },
          "metadata": {},
          "execution_count": 23
        }
      ]
    },
    {
      "cell_type": "code",
      "source": [
        "upstairs = areas[6:]\n",
        "upstairs"
      ],
      "metadata": {
        "colab": {
          "base_uri": "https://localhost:8080/"
        },
        "id": "RkpNxIQJUNHe",
        "outputId": "d5ff6d10-d297-42e9-e3da-a9416668d09b"
      },
      "execution_count": null,
      "outputs": [
        {
          "output_type": "execute_result",
          "data": {
            "text/plain": [
              "['bedroom', 10.75, 'bathroom', 9.5]"
            ]
          },
          "metadata": {},
          "execution_count": 25
        }
      ]
    },
    {
      "cell_type": "markdown",
      "source": [
        "TASK# 8\n",
        "\n",
        "areas=[\"hallway\",11.25,\"kitchen\",18.0,\"living Room\",20.0,\"bedroom\",10.75,\"bathroom\",9.50]\n",
        "\n",
        "a. Update the area of the bathroom area to be 10.50 square meters instead\n",
        "of 9.50. Print out areas list using print().\n",
        "\n",
        "b. Change \"living room\" to \"chill zone\". Print\n",
        "out areas list using print()."
      ],
      "metadata": {
        "id": "wEqIKxiF0RNt"
      }
    },
    {
      "cell_type": "code",
      "source": [
        "areas"
      ],
      "metadata": {
        "colab": {
          "base_uri": "https://localhost:8080/"
        },
        "id": "ouzlSCLUZ8UR",
        "outputId": "c8dc97d3-9ed4-4e10-dce1-2beb9c8236e7"
      },
      "execution_count": null,
      "outputs": [
        {
          "output_type": "execute_result",
          "data": {
            "text/plain": [
              "['hallway',\n",
              " 11.25,\n",
              " 'kitchen',\n",
              " 18.0,\n",
              " 'living Room',\n",
              " 20.0,\n",
              " 'bedroom',\n",
              " 10.75,\n",
              " 'bathroom',\n",
              " 9.5]"
            ]
          },
          "metadata": {},
          "execution_count": 28
        }
      ]
    },
    {
      "cell_type": "code",
      "source": [
        "areas[-1] = 10.50\n",
        "areas"
      ],
      "metadata": {
        "colab": {
          "base_uri": "https://localhost:8080/"
        },
        "id": "bL8MKSUCZtaB",
        "outputId": "bf9c97fa-1015-4afd-d2d0-3cce1493144e"
      },
      "execution_count": null,
      "outputs": [
        {
          "output_type": "execute_result",
          "data": {
            "text/plain": [
              "['hallway',\n",
              " 11.25,\n",
              " 'kitchen',\n",
              " 18.0,\n",
              " 'living Room',\n",
              " 20.0,\n",
              " 'bedroom',\n",
              " 10.75,\n",
              " 'bathroom',\n",
              " 10.5]"
            ]
          },
          "metadata": {},
          "execution_count": 29
        }
      ]
    },
    {
      "cell_type": "markdown",
      "source": [
        "TASK# 9\n",
        "\n",
        "areas=[\"hallway\",11.25,\"kitchen\",18.0,\"living Room\",20.0,\"bedroom\",10.75,\"bathroom\",9.50]\n",
        "\n",
        "a. You decide to build a garage [15.45]. Can you add the information to the areas\n",
        "list?\n",
        "print areas list using print().\n",
        "\n",
        "b. Delete garage and its value form areas list."
      ],
      "metadata": {
        "id": "JCWQNeM90RQt"
      }
    },
    {
      "cell_type": "code",
      "source": [
        "areas=[\"hallway\",11.25,\"kitchen\",18.0,\"living Room\",20.0,\"bedroom\",10.75,\"bathroom\",9.50]"
      ],
      "metadata": {
        "id": "fb21U5wDcE9_"
      },
      "execution_count": null,
      "outputs": []
    },
    {
      "cell_type": "code",
      "source": [
        "areas = areas + ['garage', 15.45]\n",
        "areas"
      ],
      "metadata": {
        "colab": {
          "base_uri": "https://localhost:8080/"
        },
        "id": "vgiSdeFKawBw",
        "outputId": "3a27972b-e1be-48b6-d194-df67a8875767"
      },
      "execution_count": null,
      "outputs": [
        {
          "output_type": "execute_result",
          "data": {
            "text/plain": [
              "['hallway',\n",
              " 11.25,\n",
              " 'kitchen',\n",
              " 18.0,\n",
              " 'living Room',\n",
              " 20.0,\n",
              " 'bedroom',\n",
              " 10.75,\n",
              " 'bathroom',\n",
              " 9.5,\n",
              " 'garage',\n",
              " 15.45]"
            ]
          },
          "metadata": {},
          "execution_count": 36
        }
      ]
    },
    {
      "cell_type": "code",
      "source": [
        "del(areas[11])\n",
        "del(areas[10])\n",
        "areas"
      ],
      "metadata": {
        "colab": {
          "base_uri": "https://localhost:8080/"
        },
        "id": "wSihRDQ_bUdS",
        "outputId": "81f18532-b3ce-4a14-f493-02e271518235"
      },
      "execution_count": null,
      "outputs": [
        {
          "output_type": "execute_result",
          "data": {
            "text/plain": [
              "['hallway',\n",
              " 11.25,\n",
              " 'kitchen',\n",
              " 18.0,\n",
              " 'living Room',\n",
              " 20.0,\n",
              " 'bedroom',\n",
              " 10.75,\n",
              " 'bathroom',\n",
              " 9.5]"
            ]
          },
          "metadata": {},
          "execution_count": 37
        }
      ]
    },
    {
      "cell_type": "markdown",
      "source": [
        "TASK# 10\n",
        "\n",
        "var1 =[1,2,3,4]\n",
        "var2=True\n",
        "\n",
        "To complete\n",
        "this task use the code above.\n",
        "\n",
        "a. Use print() in combination with type() to print out the type of var1and var2.\n",
        "\n",
        "b. Use print() in combination with len() to print out the length of the list var1.\n",
        "\n"
      ],
      "metadata": {
        "id": "e-CwDSWy0QNE"
      }
    },
    {
      "cell_type": "markdown",
      "source": [
        "#Built-in Functions"
      ],
      "metadata": {
        "id": "9EV51k1Y9EWW"
      }
    },
    {
      "cell_type": "markdown",
      "source": [
        "Task# 11\n",
        "\n",
        "a. Let’s find the position of “cherry” in the Fruit List [‘apple’, ‘banana’, ‘cherry’]?\n",
        "\n",
        "b. Let’s find the number of times “cherry” occurs in the Fruit List ['cherry', ‘banana’, ‘cherry’, 'apple']?"
      ],
      "metadata": {
        "id": "X5kqgZUb9EgF"
      }
    },
    {
      "cell_type": "code",
      "source": [
        "fruits = ['apple', 'banana', 'cherry']"
      ],
      "metadata": {
        "id": "PE3DzG_xdytB"
      },
      "execution_count": null,
      "outputs": []
    },
    {
      "cell_type": "code",
      "source": [
        "fruits.index('cherry')"
      ],
      "metadata": {
        "colab": {
          "base_uri": "https://localhost:8080/"
        },
        "id": "VyKhO3VZeA_7",
        "outputId": "808cb7c3-e6c4-4d53-a40a-4a30f4e22dd3"
      },
      "execution_count": null,
      "outputs": [
        {
          "output_type": "execute_result",
          "data": {
            "text/plain": [
              "2"
            ]
          },
          "metadata": {},
          "execution_count": 39
        }
      ]
    },
    {
      "cell_type": "code",
      "source": [
        "fruits = ['cherry', 'apple', 'banana', 'cherry']\n",
        "fruits.count('apple')"
      ],
      "metadata": {
        "colab": {
          "base_uri": "https://localhost:8080/"
        },
        "id": "yJSt-Cu5e8qV",
        "outputId": "0fb53649-d4bb-40ad-a7a3-008df526cabc"
      },
      "execution_count": null,
      "outputs": [
        {
          "output_type": "execute_result",
          "data": {
            "text/plain": [
              "1"
            ]
          },
          "metadata": {},
          "execution_count": 41
        }
      ]
    },
    {
      "cell_type": "markdown",
      "source": [
        "Task# 12\n",
        "\n",
        "areas=[11.25,18.0,20.0,10.75,9.50]\n",
        "\n",
        "a. Use the index() method to get the index of the element in areas list that is equal to 20.0 and print\n",
        "out this index.\n",
        "\n",
        "b. Use count() on the areas list to find out how many times 9.50 appears and print out this\n",
        "number.\n",
        "\n",
        "\n"
      ],
      "metadata": {
        "id": "1L0L_OYa9EkG"
      }
    },
    {
      "cell_type": "markdown",
      "source": [
        "Task# 13\n",
        "\n",
        "a. Let’s add “orange” in the Fruit List [‘apple’, ‘banana’, ‘cherry’]?\n",
        "\n",
        "b. Let’s now remove “banana” in the Fruit List [‘apple’, ‘banana’, ‘cherry’,’orange’]?\n",
        "\n",
        "c. Reverse the order of the Fruit List.\n"
      ],
      "metadata": {
        "id": "j-QxZbLj9Enj"
      }
    },
    {
      "cell_type": "code",
      "execution_count": null,
      "metadata": {
        "id": "U_AqTWc70KMu"
      },
      "outputs": [],
      "source": []
    }
  ]
}