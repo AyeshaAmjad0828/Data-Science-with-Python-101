{
  "cells": [
    {
      "cell_type": "markdown",
      "metadata": {
        "id": "3hXd_cpPFq68"
      },
      "source": [
        "TASK#1\n",
        "\n",
        "Suppose you have $100, which you can invest with a 10% return each year. After one year,\n",
        "it's 100×1.1=110 dollars, and after two years it's 100×1.1×1.1=121.\n",
        "\n",
        "Add code to calculate how much money you end up with after 7 years, and print the result.\n"
      ]
    },
    {
      "cell_type": "code",
      "execution_count": null,
      "metadata": {
        "colab": {
          "base_uri": "https://localhost:8080/"
        },
        "id": "pkyd8OaJigO0",
        "outputId": "e6e7c025-bc3d-4b7e-e965-a0b833b3f1c5"
      },
      "outputs": [
        {
          "data": {
            "text/plain": [
              "194.87171000000012"
            ]
          },
          "execution_count": 2,
          "metadata": {},
          "output_type": "execute_result"
        }
      ],
      "source": [
        "100*1.1**7"
      ]
    },
    {
      "cell_type": "markdown",
      "metadata": {
        "id": "_h8ZQP-bGmFe"
      },
      "source": [
        "TASK#2\n",
        "\n",
        "Define variables for the values given in Task#1"
      ]
    },
    {
      "cell_type": "code",
      "execution_count": null,
      "metadata": {
        "id": "8PEhSD6HkHPj"
      },
      "outputs": [],
      "source": [
        "investment = 100\n",
        "roi = 1.1\n",
        "years = 10"
      ]
    },
    {
      "cell_type": "code",
      "execution_count": null,
      "metadata": {
        "id": "5SxK1vaKklC5"
      },
      "outputs": [],
      "source": [
        "returns = investment*roi**years"
      ]
    },
    {
      "cell_type": "code",
      "execution_count": null,
      "metadata": {
        "colab": {
          "base_uri": "https://localhost:8080/"
        },
        "id": "vUFipIbQk67y",
        "outputId": "1009089d-7998-4932-9c4e-d46eb0b95b57"
      },
      "outputs": [
        {
          "data": {
            "text/plain": [
              "259.3742460100002"
            ]
          },
          "execution_count": 8,
          "metadata": {},
          "output_type": "execute_result"
        }
      ],
      "source": [
        "returns"
      ]
    },
    {
      "cell_type": "markdown",
      "metadata": {
        "id": "7bv-tX-THPkF"
      },
      "source": [
        "TASK#3\n",
        "\n",
        "Perform the same calculation as required in Task#1 using variables defined in Task#2"
      ]
    },
    {
      "cell_type": "markdown",
      "metadata": {
        "id": "_fXaAwl-HPm0"
      },
      "source": [
        "TASK#4\n",
        "\n",
        "Calculate your BMI by defining variables for the formula:\n",
        "\n",
        "\n",
        "![image.png](data:image/png;base64,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)\n"
      ]
    },
    {
      "cell_type": "code",
      "execution_count": null,
      "metadata": {
        "id": "kgc4oOrFmAoa"
      },
      "outputs": [],
      "source": [
        "height = 1.63\n",
        "weight = 48"
      ]
    },
    {
      "cell_type": "code",
      "execution_count": null,
      "metadata": {
        "colab": {
          "base_uri": "https://localhost:8080/"
        },
        "id": "3-ALjuOImVBb",
        "outputId": "b5a1b6a4-bd2a-40ab-b0be-e64ca77bc57c"
      },
      "outputs": [
        {
          "data": {
            "text/plain": [
              "18.06616733787497"
            ]
          },
          "execution_count": 10,
          "metadata": {},
          "output_type": "execute_result"
        }
      ],
      "source": [
        "BMI = weight / height **2\n",
        "BMI"
      ]
    },
    {
      "cell_type": "markdown",
      "metadata": {
        "id": "fqevRi1FHPpi"
      },
      "source": [
        "TASK#5\n",
        "\n",
        "a. Create a variable growth_multiplier, equal to 1.1\n",
        "\n",
        "b. Create a variable, result, equal to the amount of money you saved after 7 years.\n",
        "Print out the value of result.\n",
        "\n",
        "\n",
        "\n",
        "\n",
        "\n"
      ]
    },
    {
      "cell_type": "markdown",
      "metadata": {
        "id": "G3eJZ7YCHPr6"
      },
      "source": [
        "TASK#6\n",
        "\n",
        "Create a new string, description, with the value \"compound interest\".\n"
      ]
    },
    {
      "cell_type": "code",
      "execution_count": null,
      "metadata": {
        "id": "LbFtrPjdomuC"
      },
      "outputs": [],
      "source": [
        "description = 'compound interest'"
      ]
    },
    {
      "cell_type": "markdown",
      "metadata": {
        "id": "-52z5HqYHPud"
      },
      "source": [
        "Task#7\n",
        "\n",
        "Create a new boolean, profitable, with the value True.\n"
      ]
    },
    {
      "cell_type": "code",
      "execution_count": null,
      "metadata": {
        "id": "n8bcJRQ2o6EU"
      },
      "outputs": [],
      "source": [
        "profitable = True"
      ]
    },
    {
      "cell_type": "markdown",
      "metadata": {
        "id": "-opqtuq4HPwq"
      },
      "source": [
        "Task#8\n",
        "\n",
        "Find out data types of all the variables defined so far."
      ]
    },
    {
      "cell_type": "code",
      "source": [
        "type(profitable)"
      ],
      "metadata": {
        "colab": {
          "base_uri": "https://localhost:8080/"
        },
        "id": "55Sqs0dnpdGo",
        "outputId": "e794d337-9551-483d-81d3-116c3d69788c"
      },
      "execution_count": null,
      "outputs": [
        {
          "output_type": "execute_result",
          "data": {
            "text/plain": [
              "bool"
            ]
          },
          "metadata": {},
          "execution_count": 15
        }
      ]
    },
    {
      "cell_type": "code",
      "source": [
        "type(BMI)"
      ],
      "metadata": {
        "colab": {
          "base_uri": "https://localhost:8080/"
        },
        "id": "w6ZbDLOXpkbI",
        "outputId": "a574ae70-6422-4fb3-a328-72fc02758671"
      },
      "execution_count": null,
      "outputs": [
        {
          "output_type": "execute_result",
          "data": {
            "text/plain": [
              "float"
            ]
          },
          "metadata": {},
          "execution_count": 16
        }
      ]
    },
    {
      "cell_type": "code",
      "source": [
        "type(years)"
      ],
      "metadata": {
        "colab": {
          "base_uri": "https://localhost:8080/"
        },
        "id": "EjLS9H_tps8o",
        "outputId": "bd99220a-f831-4c8d-d36f-88f24ba4e594"
      },
      "execution_count": null,
      "outputs": [
        {
          "output_type": "execute_result",
          "data": {
            "text/plain": [
              "int"
            ]
          },
          "metadata": {},
          "execution_count": 17
        }
      ]
    },
    {
      "cell_type": "markdown",
      "metadata": {
        "id": "efhEi_s4MWaV"
      },
      "source": [
        "TASK#9\n",
        "\n",
        "Calculate the product of savings and growth_multiplier. Store the result in year1.\n",
        "\n",
        "What do you think the resulting type will be? Find out by printing out the type of year1.\n"
      ]
    },
    {
      "cell_type": "markdown",
      "metadata": {
        "id": "bdDKYXioMWi0"
      },
      "source": [
        "TASK#10\n",
        "\n",
        "Calculate the sum of desc and desc and store the result in a new variable\n",
        "doubledesc. Print out doubledesc. Did you expect this?\n"
      ]
    },
    {
      "cell_type": "code",
      "execution_count": null,
      "metadata": {
        "id": "advHSkzlMHan"
      },
      "outputs": [],
      "source": [
        "savings = 90\n",
        "results = 12.3"
      ]
    },
    {
      "cell_type": "code",
      "source": [
        "print(\"I started with $\" + str(savings) + \" and now I am left with $\" + str(results) + \" What a bummer!\" )"
      ],
      "metadata": {
        "colab": {
          "base_uri": "https://localhost:8080/"
        },
        "id": "HA9Xk3VkKfAe",
        "outputId": "c3cf4261-00b7-4d19-b629-b1fccf025478"
      },
      "execution_count": null,
      "outputs": [
        {
          "output_type": "stream",
          "name": "stdout",
          "text": [
            "I started with $90 and now I am left with $12.3 What a bummer!\n"
          ]
        }
      ]
    }
  ],
  "metadata": {
    "colab": {
      "provenance": []
    },
    "kernelspec": {
      "display_name": "Python 3",
      "name": "python3"
    },
    "language_info": {
      "name": "python"
    }
  },
  "nbformat": 4,
  "nbformat_minor": 0
}