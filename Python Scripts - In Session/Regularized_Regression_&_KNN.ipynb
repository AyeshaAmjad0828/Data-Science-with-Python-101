{
  "nbformat": 4,
  "nbformat_minor": 0,
  "metadata": {
    "colab": {
      "provenance": []
    },
    "kernelspec": {
      "name": "python3",
      "display_name": "Python 3"
    },
    "language_info": {
      "name": "python"
    }
  },
  "cells": [
    {
      "cell_type": "markdown",
      "source": [
        "# Ridge & Lasso"
      ],
      "metadata": {
        "id": "mNoPhNxVlgj9"
      }
    },
    {
      "cell_type": "code",
      "source": [
        "import pandas as pd\n",
        "from sklearn.linear_model import Lasso\n",
        "from sklearn.linear_model import Ridge\n",
        "from sklearn.linear_model import LinearRegression"
      ],
      "metadata": {
        "id": "_MJURHJMvYZu"
      },
      "execution_count": 3,
      "outputs": []
    },
    {
      "cell_type": "code",
      "source": [
        "from sklearn.model_selection import train_test_split\n",
        "from sklearn.metrics import mean_squared_error, r2_score"
      ],
      "metadata": {
        "id": "7kW1YKCTvyfZ"
      },
      "execution_count": 4,
      "outputs": []
    },
    {
      "cell_type": "code",
      "source": [
        "pd.set_option('display.float_format', lambda x: '%.3f' % x)"
      ],
      "metadata": {
        "id": "28C2NjUmvy5m"
      },
      "execution_count": 5,
      "outputs": []
    },
    {
      "cell_type": "markdown",
      "source": [
        "### Task# 1\n",
        "\n",
        "a. Read toyotal corolla cars data from: https://raw.githubusercontent.com/AyeshaAmjad0828/Data-Science-with-Python-101/main/Datasets/ToyotaCorolla.xls\n",
        "\n",
        "b. Create a subset of this data include fields: [['Price', 'Age_08_04', 'KM', 'Fuel_Type', 'Automatic', 'Gears']]"
      ],
      "metadata": {
        "id": "RWBBzobPlhSS"
      }
    },
    {
      "cell_type": "markdown",
      "source": [
        "### Task# 2\n",
        "\n",
        "a. One-hot encode all categorical variables.\n",
        "\n",
        "b. Define X and y variables."
      ],
      "metadata": {
        "id": "pqwl622dlhVb"
      }
    },
    {
      "cell_type": "markdown",
      "source": [
        "### Task# 3\n",
        "\n",
        "a. Initialize a list for R2, MSE, model_list.\n",
        "\n",
        "b. Fit a linear regression model on the data, print r_squared, mse values, and coefficients of LR.\n",
        "\n",
        "\n"
      ],
      "metadata": {
        "id": "8trYzTyDlhX1"
      }
    },
    {
      "cell_type": "markdown",
      "source": [
        "### Task# 4\n",
        "\n",
        "a. Fit a ridge regression model on the data with alpha=0.1. Print r_squared, mse values, and coefficients of LR.\n",
        "\n",
        "b.  Fit a ridge regression model on the data with alpha=10. Print r_squared, mse values, and coefficients of LR.\n",
        "\n",
        "c. Fit a ridge regression model on the data with alpha=100. Print r_squared, mse values, and coefficients of LR.\n",
        "\n",
        "d. What difference do you observe?\n"
      ],
      "metadata": {
        "id": "FZL5hr9BlhbA"
      }
    },
    {
      "cell_type": "markdown",
      "source": [
        "### Task# 5\n",
        "\n",
        "a. Fit a lasso regression model on the data with alpha=0.1. Print r_squared, mse values, and coefficients of LR.\n",
        "\n",
        "b.  Fit a lasso regression model on the data with alpha=10. Print r_squared, mse values, and coefficients of LR.\n",
        "\n",
        "c. Fit a lasso regression model on the data with alpha=100. Print r_squared, mse values, and coefficients of LR.\n",
        "\n",
        "d. What difference do you observe?"
      ],
      "metadata": {
        "id": "P5VD9QqIlhgg"
      }
    },
    {
      "cell_type": "markdown",
      "source": [
        "### Task# 6\n",
        "\n",
        "a. Combine the result of linear, ridge 10, ridge 100, lasso 10, lasso 100 into a single dataframe.\n",
        "\n",
        "b. What difference do you observe between lasso and ridge?"
      ],
      "metadata": {
        "id": "XjQ0liKulhjA"
      }
    },
    {
      "cell_type": "markdown",
      "source": [
        "# K - Nearest Neighbors"
      ],
      "metadata": {
        "id": "zYUvyC8vvDRB"
      }
    },
    {
      "cell_type": "code",
      "source": [
        "from sklearn.neighbors import KNeighborsRegressor\n",
        "from sklearn.model_selection import train_test_split, RepeatedKFold\n",
        "from sklearn.metrics import mean_squared_error, r2_score\n",
        "from sklearn.preprocessing import MinMaxScaler"
      ],
      "metadata": {
        "id": "H5qAYygRvNjZ"
      },
      "execution_count": 8,
      "outputs": []
    },
    {
      "cell_type": "markdown",
      "source": [
        "### Task# 7\n",
        "\n",
        "a. Load advertising data from: https://raw.githubusercontent.com/AyeshaAmjad0828/Data-Science-with-Python-101/main/Datasets/Advertising.csv\n",
        "\n",
        "b. Fit the KNN regression model with k=5\n",
        "\n",
        "c. Fit the KNN regression model with k=3"
      ],
      "metadata": {
        "id": "2XKqKaxJvDaX"
      }
    },
    {
      "cell_type": "code",
      "source": [],
      "metadata": {
        "id": "8aJRKqWi0r5-"
      },
      "execution_count": null,
      "outputs": []
    },
    {
      "cell_type": "markdown",
      "source": [
        "### Task# 8\n",
        "\n",
        "a. Read toyotal corolla cars data from: https://raw.githubusercontent.com/AyeshaAmjad0828/Data-Science-with-Python-101/main/Datasets/ToyotaCorolla.xls\n",
        "\n",
        "b. Create a subset of this data include fields:[['Price', 'Age_08_04', 'KM', 'Quarterly_Tax', 'Mfr_Guarantee', 'BOVAG_Guarantee', 'ABS','Airco', 'Metallic_Rim']]\n",
        "\n",
        "c. Assign 'Price' as y variable, and the rest as X variables."
      ],
      "metadata": {
        "id": "Qzv6W-UtvDdR"
      }
    },
    {
      "cell_type": "markdown",
      "source": [
        "### Task# 9\n",
        "\n",
        "a. Split data into test/train with test_size = 0.3\n",
        "\n",
        "b. Perform KNN regression with k=3"
      ],
      "metadata": {
        "id": "sq4sRQCwvDiI"
      }
    },
    {
      "cell_type": "markdown",
      "source": [
        "### Task# 10\n",
        "\n",
        "a. Apply mix-max scaling to X features.\n",
        "\n",
        "b. Perform KNN regression with k=3"
      ],
      "metadata": {
        "id": "zt99FjBSJT-z"
      }
    },
    {
      "cell_type": "markdown",
      "source": [
        "# KFold Cross-Validation DEMO\n",
        "\n",
        "Takes care of train-test-validation sets."
      ],
      "metadata": {
        "id": "M_VInevrcZy5"
      }
    },
    {
      "cell_type": "code",
      "execution_count": null,
      "metadata": {
        "id": "BknkPG58yufs"
      },
      "outputs": [],
      "source": [
        "cv = RepeatedKFold(n_splits=10, n_repeats=3, random_state=1)\n",
        "for i in range(1, 100,5):\n",
        "    neigh = KNeighborsRegressor(n_neighbors=i)\n",
        "    scores = cross_val_score(neigh, X, y, cv=cv)\n",
        "    score = format(mean(scores), '.4f')\n",
        "    print(\"K={} : {}\".format(i,score))"
      ]
    },
    {
      "cell_type": "code",
      "source": [
        "scaler = MinMaxScaler(feature_range=(0, 1))\n",
        "X_Scaled = scaler.fit_transform(X)\n",
        "XS = pd.DataFrame(X_Scaled)\n",
        "XS.columns = X.columns\n",
        "for i in range(1, 20):\n",
        "    neigh = KNeighborsRegressor(n_neighbors=i)\n",
        "    scores = cross_val_score(neigh, XS, y, cv=cv)\n",
        "    score = format(mean(scores), '.4f')\n",
        "    print(\"K={} : {}\".format(i,score))"
      ],
      "metadata": {
        "id": "8u9piBwicuNC"
      },
      "execution_count": null,
      "outputs": []
    }
  ]
}