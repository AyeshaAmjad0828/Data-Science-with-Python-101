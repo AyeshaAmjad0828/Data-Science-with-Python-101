{
  "nbformat": 4,
  "nbformat_minor": 0,
  "metadata": {
    "colab": {
      "provenance": []
    },
    "kernelspec": {
      "name": "python3",
      "display_name": "Python 3"
    },
    "language_info": {
      "name": "python"
    }
  },
  "cells": [
    {
      "cell_type": "markdown",
      "source": [
        "#Numpy"
      ],
      "metadata": {
        "id": "1fQBCerF_Cbg"
      }
    },
    {
      "cell_type": "markdown",
      "source": [
        "Task#1\n",
        "\n",
        "baseball=[180,215,210,210,188,176,209,200]\n",
        "\n",
        "\n",
        "Use np.array() to create a numpy array from baseball list. Name this array np_baseball. Print\n",
        "out the type of np_baseball.\n"
      ],
      "metadata": {
        "id": "whw6i2sYCZSw"
      }
    },
    {
      "cell_type": "code",
      "source": [
        "baseball = [180,215,210,210,188,176,209,200]"
      ],
      "metadata": {
        "id": "qYa9zVTXgRsx"
      },
      "execution_count": null,
      "outputs": []
    },
    {
      "cell_type": "code",
      "source": [
        "import numpy as np"
      ],
      "metadata": {
        "id": "Dm7zHEYdgege"
      },
      "execution_count": null,
      "outputs": []
    },
    {
      "cell_type": "code",
      "source": [
        "np_baseball = np.array(baseball)"
      ],
      "metadata": {
        "id": "uJjb3uT4gnPW"
      },
      "execution_count": null,
      "outputs": []
    },
    {
      "cell_type": "code",
      "source": [
        "type(baseball)"
      ],
      "metadata": {
        "colab": {
          "base_uri": "https://localhost:8080/"
        },
        "id": "LXBFOjJ6hC2p",
        "outputId": "87d82879-c9a5-439c-97ef-231ee395a735"
      },
      "execution_count": null,
      "outputs": [
        {
          "output_type": "execute_result",
          "data": {
            "text/plain": [
              "list"
            ]
          },
          "metadata": {},
          "execution_count": 6
        }
      ]
    },
    {
      "cell_type": "code",
      "source": [
        "type(np_baseball)"
      ],
      "metadata": {
        "colab": {
          "base_uri": "https://localhost:8080/"
        },
        "id": "_R0sbwyeg8CP",
        "outputId": "c7fb9ce2-9556-4c02-94b6-70cc91e8ef0f"
      },
      "execution_count": null,
      "outputs": [
        {
          "output_type": "execute_result",
          "data": {
            "text/plain": [
              "numpy.ndarray"
            ]
          },
          "metadata": {},
          "execution_count": 5
        }
      ]
    },
    {
      "cell_type": "markdown",
      "source": [
        "Task#2\n",
        "\n",
        "Convert the height to inches and print the array"
      ],
      "metadata": {
        "id": "GvnuhKICDm-q"
      }
    },
    {
      "cell_type": "code",
      "source": [
        "np_baseball_inches = np_baseball*0.3937"
      ],
      "metadata": {
        "id": "WZtJcUKEhQ1y"
      },
      "execution_count": null,
      "outputs": []
    },
    {
      "cell_type": "code",
      "source": [
        "np_baseball_inches"
      ],
      "metadata": {
        "colab": {
          "base_uri": "https://localhost:8080/"
        },
        "id": "La4mrdswhk5x",
        "outputId": "19df72ee-c2fb-4d37-d7ff-bbcbad5b9717"
      },
      "execution_count": null,
      "outputs": [
        {
          "output_type": "execute_result",
          "data": {
            "text/plain": [
              "array([70.866 , 84.6455, 82.677 , 82.677 , 74.0156, 69.2912, 82.2833,\n",
              "       78.74  ])"
            ]
          },
          "metadata": {},
          "execution_count": 8
        }
      ]
    },
    {
      "cell_type": "markdown",
      "source": [
        "Task# 3\n",
        "\n",
        "Create a list of random heights of 50 baseball players ranging between 70-80\n",
        "\n",
        "*Note: The height is expressed in inches.*"
      ],
      "metadata": {
        "id": "8yAzmeJuCZVm"
      }
    },
    {
      "cell_type": "code",
      "source": [
        "import random as rn"
      ],
      "metadata": {
        "id": "wMdTFSi2h8HH"
      },
      "execution_count": null,
      "outputs": []
    },
    {
      "cell_type": "code",
      "source": [
        "heights = [rn.uniform(70,80) for _ in range(50)]"
      ],
      "metadata": {
        "id": "0lxCiLvQiLRR"
      },
      "execution_count": null,
      "outputs": []
    },
    {
      "cell_type": "code",
      "source": [
        "heights = []\n",
        "for _ in range(50):\n",
        "  heights.append(rn.uniform(70,80))\n",
        "\n",
        "heights"
      ],
      "metadata": {
        "colab": {
          "base_uri": "https://localhost:8080/"
        },
        "collapsed": true,
        "id": "UhoehFO2i9xl",
        "outputId": "2e6af8f7-9fdb-4554-b334-ff07753ecb09"
      },
      "execution_count": null,
      "outputs": [
        {
          "output_type": "execute_result",
          "data": {
            "text/plain": [
              "[76.7132628413932,\n",
              " 75.35116432943917,\n",
              " 75.64835069700226,\n",
              " 73.81704977932111,\n",
              " 74.2634487407535,\n",
              " 79.89102207385974,\n",
              " 78.11345073177287,\n",
              " 71.83375203817346,\n",
              " 72.695286871414,\n",
              " 74.268164146378,\n",
              " 73.82171308691366,\n",
              " 71.39013675067915,\n",
              " 76.83661135684912,\n",
              " 76.36942528460278,\n",
              " 71.71091461329657,\n",
              " 70.49693176335055,\n",
              " 72.04798169813478,\n",
              " 73.75940801948298,\n",
              " 71.7471893395733,\n",
              " 70.62324158798462,\n",
              " 72.91647354097027,\n",
              " 75.06692478452376,\n",
              " 71.52162959385113,\n",
              " 73.44225809156526,\n",
              " 70.48207153754852,\n",
              " 70.44975623300314,\n",
              " 70.62814172970086,\n",
              " 73.83452949281238,\n",
              " 79.49486571461114,\n",
              " 70.37859718250901,\n",
              " 76.25452737132558,\n",
              " 75.81800854140944,\n",
              " 74.53584346493491,\n",
              " 73.42530709979032,\n",
              " 74.00363504999261,\n",
              " 70.80862129789949,\n",
              " 75.82430422333488,\n",
              " 74.26018715566848,\n",
              " 73.35644981766033,\n",
              " 76.14013570150671,\n",
              " 76.11411767013375,\n",
              " 79.19965754415797,\n",
              " 77.55544146916269,\n",
              " 71.09714502377994,\n",
              " 72.39028996487092,\n",
              " 77.06023890946734,\n",
              " 75.80328286237744,\n",
              " 72.87392703160958,\n",
              " 70.10429851958705,\n",
              " 78.25279327633422]"
            ]
          },
          "metadata": {},
          "execution_count": 15
        }
      ]
    },
    {
      "cell_type": "code",
      "source": [
        "heights"
      ],
      "metadata": {
        "colab": {
          "base_uri": "https://localhost:8080/"
        },
        "collapsed": true,
        "id": "qy19GTgeiv71",
        "outputId": "f58b1a3f-89e1-4958-af59-2c039dff79c3"
      },
      "execution_count": null,
      "outputs": [
        {
          "output_type": "execute_result",
          "data": {
            "text/plain": [
              "[76.7132628413932,\n",
              " 75.35116432943917,\n",
              " 75.64835069700226,\n",
              " 73.81704977932111,\n",
              " 74.2634487407535,\n",
              " 79.89102207385974,\n",
              " 78.11345073177287,\n",
              " 71.83375203817346,\n",
              " 72.695286871414,\n",
              " 74.268164146378,\n",
              " 73.82171308691366,\n",
              " 71.39013675067915,\n",
              " 76.83661135684912,\n",
              " 76.36942528460278,\n",
              " 71.71091461329657,\n",
              " 70.49693176335055,\n",
              " 72.04798169813478,\n",
              " 73.75940801948298,\n",
              " 71.7471893395733,\n",
              " 70.62324158798462,\n",
              " 72.91647354097027,\n",
              " 75.06692478452376,\n",
              " 71.52162959385113,\n",
              " 73.44225809156526,\n",
              " 70.48207153754852,\n",
              " 70.44975623300314,\n",
              " 70.62814172970086,\n",
              " 73.83452949281238,\n",
              " 79.49486571461114,\n",
              " 70.37859718250901,\n",
              " 76.25452737132558,\n",
              " 75.81800854140944,\n",
              " 74.53584346493491,\n",
              " 73.42530709979032,\n",
              " 74.00363504999261,\n",
              " 70.80862129789949,\n",
              " 75.82430422333488,\n",
              " 74.26018715566848,\n",
              " 73.35644981766033,\n",
              " 76.14013570150671,\n",
              " 76.11411767013375,\n",
              " 79.19965754415797,\n",
              " 77.55544146916269,\n",
              " 71.09714502377994,\n",
              " 72.39028996487092,\n",
              " 77.06023890946734,\n",
              " 75.80328286237744,\n",
              " 72.87392703160958,\n",
              " 70.10429851958705,\n",
              " 78.25279327633422]"
            ]
          },
          "metadata": {},
          "execution_count": 16
        }
      ]
    },
    {
      "cell_type": "markdown",
      "source": [
        "Task# 4\n",
        "\n",
        "Create a numpy array from the list created in Task#3 & name this new array\n",
        "np_height_in. Print np_height_in."
      ],
      "metadata": {
        "id": "ajV53z21CZX2"
      }
    },
    {
      "cell_type": "code",
      "source": [
        "heights_arr = np.array(heights)"
      ],
      "metadata": {
        "id": "vux2oFFgjkFz"
      },
      "execution_count": null,
      "outputs": []
    },
    {
      "cell_type": "code",
      "source": [
        "heights_arr"
      ],
      "metadata": {
        "colab": {
          "base_uri": "https://localhost:8080/"
        },
        "id": "xCjuHcRKjrZi",
        "outputId": "bd193ffb-dd3e-4a60-81cf-5961e75abcc6"
      },
      "execution_count": null,
      "outputs": [
        {
          "output_type": "execute_result",
          "data": {
            "text/plain": [
              "array([78.84387584, 72.01044572, 79.04186587, 74.74414943, 74.7505817 ,\n",
              "       77.28706323, 72.16852132, 78.96607517, 70.12896946, 79.57141186,\n",
              "       79.68132561, 78.25380024, 75.70148155, 74.64351473, 75.34940419,\n",
              "       72.61205459, 75.99238274, 70.1249255 , 77.002971  , 79.14516941,\n",
              "       71.49625877, 72.43468084, 75.00537934, 73.70845426, 73.17253598,\n",
              "       70.66065061, 79.91797971, 73.4881267 , 70.27369459, 78.11236819,\n",
              "       74.19798045, 74.91157114, 74.98959639, 77.98303024, 78.55468142,\n",
              "       76.76593049, 72.0433125 , 72.53225321, 74.78324168, 72.09124306,\n",
              "       70.94574354, 78.40353216, 74.10661097, 76.44512587, 73.21857706,\n",
              "       78.83077655, 75.84229291, 74.29715951, 79.63158965, 74.75837342])"
            ]
          },
          "metadata": {},
          "execution_count": 13
        }
      ]
    },
    {
      "cell_type": "markdown",
      "source": [
        "Task# 5\n",
        "\n",
        "a. Create a list of random weight (lb) values of 50 baseball players ranging between 160-260.\n",
        "\n",
        "b. Create a numpy array from the weight_lb list.\n",
        "\n",
        "c. Convert weights from pounds to kilograms."
      ],
      "metadata": {
        "id": "FzBei10yCZaN"
      }
    },
    {
      "cell_type": "markdown",
      "source": [
        "Task# 6\n",
        "\n",
        "Use np_height_m and np_weight_kg to calculate the BMI of each player. Use the\n",
        "following equation:\n",
        "\n",
        "![image.png](data:image/png;base64,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)"
      ],
      "metadata": {
        "id": "2L9qdYSlCZc9"
      }
    },
    {
      "cell_type": "markdown",
      "source": [
        "**NUMPY - BOOLEAN INDEXING**"
      ],
      "metadata": {
        "id": "ixmpTTctCZfN"
      }
    },
    {
      "cell_type": "markdown",
      "source": [
        "Task# 7\n",
        "\n",
        "Create a list and use a logical operator to check which values in a list are greater than 5.\n"
      ],
      "metadata": {
        "id": "WWCvvSosCZju"
      }
    },
    {
      "cell_type": "markdown",
      "source": [
        "Task# 8\n",
        "\n",
        "Use the BMI calculation to create a boolean numpy array: the element of the array should be True if the\n",
        "corresponding baseball player's BMI is below 21.\n",
        "\n",
        "You can use the < operator for this. Name the array\n",
        "‘np_light.’\n",
        "\n",
        "Print the array light.\n"
      ],
      "metadata": {
        "id": "zMr4ELO4CZl9"
      }
    },
    {
      "cell_type": "markdown",
      "source": [
        "Task# 9\n",
        "\n",
        "Create a boolean numpy array: the element of the array should be True if the\n",
        "corresponding baseball player's BMI is greater then 21.\n",
        "\n",
        "You can use the > operator for this.\n",
        "\n",
        "\n",
        "Name the array np_heavy.\n",
        "Print np_heavy\n"
      ],
      "metadata": {
        "id": "aRBqaYfDCZoU"
      }
    },
    {
      "cell_type": "markdown",
      "source": [
        "Task# 10\n",
        "\n",
        "a. Using the MLB data subset and print out the element at index 50 from np_weight_lb.\n",
        "\n",
        "b. Print out a sub-array of np_height_in that contains the elements at index 100 up to and\n",
        "110.\n"
      ],
      "metadata": {
        "id": "deWQLdl3CZrE"
      }
    },
    {
      "cell_type": "markdown",
      "source": [
        "**2D NUMPY ARRAY**"
      ],
      "metadata": {
        "id": "X9W8t2cx8zv0"
      }
    },
    {
      "cell_type": "markdown",
      "source": [
        "Task# 11\n",
        "\n",
        "a. Use np.array() to create a 2D numpy array from baseball list. Name it np_baseball.\n",
        "Print out the shape attribute of np_baseball. Use np_baseball.shape.\n",
        "\n",
        "\n",
        "baseball =[[74, 180], [74, 215], [72, 210], [72, 210], [73, 188], [69, 176], [69, 209], [71, 200], [76, 231], [71, 180], [73, 188], [73, 180], [74, 185], [74, 160], [69, 180], [70, 185], [73, 189], [75, 185], [78, 219], [79, 230], [76, 205], [74, 230], [76, 195], [72, 180], [71, 192], [75, 225], [77, 203], [74,\n",
        "195], [73, 182], [74, 188], [78, 200], [73, 180], [75, 200], [73, 200], [75, 245], [75, 240], [74, 215], [69, 185], [71, 175], [74, 199], [73, 200], [73, 215], [76, 200], [74, 205], [74, 206], [70, 186], [72, 188], [77, 220], [74, 210], [70, 195], [73, 200], [75, 200], [76, 212], [76, 224], [78, 210], [74, 205], [74, 220], [76,\n",
        "195], [77, 200], [81, 260], [78, 228], [75, 270], [77, 200], [75, 210], [76, 190], [74, 220], [72, 180], [72, 205], [75, 210], [73, 220], [73, 211], [73, 200], [70, 180], [70, 190], [70, 170], [76, 230], [68, 155], [71, 185], [72, 185], [75, 200], [75, 225], [75, 225], [75, 220], [68, 160], [74, 205], [78, 235], [71, 250], [73,\n",
        "210], [76, 190], [74, 160], [74, 200], [79, 205], [75, 222], [73, 195], [76, 205], [74, 220], [74, 220], [73, 170], [72, 185], [74, 195], [73, 220], [74, 230], [72, 180], [73, 220], [69, 180], [72, 180], [73, 170], [75, 210], [75, 215], [73, 200], [72, 213], [72, 180], [76, 192], [74, 235], [72, 185], [77, 235], [74, 210], [77,\n",
        "222], [75, 210], [76, 230], [80, 220], [74, 180], [74, 190], [75, 200], [78, 210], [73, 194], [73, 180], [74, 190], [75, 240], [76, 200], [71, 198], [73, 200], [74, 195], [76, 210], [76, 220], [74, 190], [73, 210], [74, 225], [70, 180], [72, 185], [73, 170], [73, 185], [73, 185], [73, 180], [71, 178], [74, 175], [74, 200], [72,\n",
        "204], [74, 211], [71, 190], [74, 210], [73, 190], [75, 190], [75, 185], [79, 290], [73, 175], [75, 185], [76, 200], [74, 220], [76, 170], [78, 220], [74, 190], [76, 220], [72, 205], [74, 200], [76, 250], [74, 225], [75, 215], [78, 210], [75, 215], [72, 195], [74, 200], [72, 194], [74, 220], [70, 180], [71, 180], [70, 170], [75,\n",
        "195], [71, 180], [71, 170], [73, 206], [72, 205], [71, 200], [73, 225], [72, 201], [75, 225], [74, 233], [74, 180], [75, 225], [73, 180], [77, 220], [73, 180], [76, 237], [75, 215], [74, 190], [76, 235], [75, 190], [73, 180], [71, 165], [76, 195], [75, 200], [72, 190], [71, 190], [77, 185], [73, 185], [74, 205], [71, 190], [72,\n",
        "205], [74, 206], [75, 220], [73, 208], [72, 170], [75, 195], [75, 210], [74, 190], [72, 211], [74, 230], [71, 170], [70, 185], [74, 185], [77, 241], [77, 225], [75, 210], [75, 175], [78, 230], [75, 200], [76, 215], [73, 198], [75, 226], [75, 278], [79, 215], [77, 230], [76, 240], [71, 184], [75, 219], [74, 170], [69, 218], [71,\n",
        "190], [76, 225], [72, 220], [72, 176], [70, 190], [72, 197], [73, 204], [71, 167], [72, 180], [71, 195], [73, 220], [72, 215], [73, 185], [74, 190], [74, 205], [72, 205], [75, 200], [74, 210], [74, 215], [77, 200], [75, 205], [73, 211], [72, 190], [71, 208], [74, 200], [77, 210], [75, 232], [75, 230], [75, 210], [78, 220], [78,\n",
        "210], [74, 202], [76, 212], [78, 225], [76, 170], [70, 190], [72, 200], [80, 237], [74, 220], [74, 170], [71, 193], [70, 190], [72, 150], [71, 220], [74, 200], [71, 190], [72, 185], [71, 185], [74, 200], [69, 172], [76, 220], [75, 225], [75, 190], [76, 195], [73, 219], [76, 190], [73, 197], [77, 200], [73, 195], [72, 210], [72,\n",
        "177], [77, 220], [77, 235], [71, 180], [74, 195], [74, 195], [73, 190], [78, 230], [75, 190], [73, 200], [70, 190], [74, 190], [72, 200], [73, 200], [73, 184], [75, 200], [75, 180], [74, 219], [76, 187], [73, 200], [74, 220], [75, 205], [75, 190], [72, 170], [73, 160], [73, 215], [72, 175], [74, 205], [78, 200], [76, 214], [73,\n",
        "200], [74, 190], [75, 180], [70, 205], [75, 220], [71, 190], [72, 215], [78, 235], [75, 191], [73, 200], [73, 181], [71, 200], [75, 210], [77, 240], [72, 185], [69, 165], [73, 190], [74, 185], [72, 175], [70, 155], [75, 210], [70, 170], [72, 175], [72, 220], [74, 210], [73, 205], [74, 200], [76, 205], [75, 195], [80, 240], [72,\n",
        "150], [75, 200], [73, 215], [74, 202], [74, 200], [73, 190], [75, 205], [75, 190], [71, 160], [73, 215], [75, 185], [74, 200], [74, 190], [72, 210], [74, 185], [74, 220], [74, 190], [73, 202], [76, 205], [75, 220], [72, 175], [73, 160], [73, 190], [73, 200], [72, 229], [72, 206], [72, 220], [72, 180], [71, 195], [75, 175], [75,\n",
        "188], [74, 230], [73, 190], [75, 200], [79, 190], [74, 219], [76, 235], [73, 180], [74, 180], [74, 180], [72, 200], [74, 234], [74, 185], [75, 220], [78, 223], [74, 200], [74, 210], [74, 200], [77, 210], [70, 190], [73, 177], [74, 227], [73, 180], [71, 195], [75, 199], [71, 175], [72, 185], [77, 240], [74, 210], [70, 180], [77,\n",
        "194], [73, 225], [72, 180], [76, 205], [71, 193], [76, 230], [78, 230], [75, 220], [73, 200], [78, 249], [74, 190], [79, 208], [75, 245], [76, 250], [72, 160], [75, 192], [75, 220], [70, 170], [72, 197], [70, 155], [74, 190], [71, 200], [76, 220], [73, 210], [76, 228], [71, 190], [69, 160], [72, 184], [72, 180], [69, 180], [73,\n",
        "200], [69, 176], [73, 160], [74, 222], [74, 211], [72, 195], [71, 200], [72, 175], [72, 206], [76, 240], [76, 185], [76, 260], [74, 185], [76, 221], [75, 205], [71, 200], [72, 170], [71, 201], [73, 205], [75, 185], [76, 205], [75, 245], [71, 220], [75, 210], [74, 220], [72, 185], [73, 175], [73, 170], [73, 180], [73, 200], [76,\n",
        "210], [72, 175], [76, 220], [73, 206], [73, 180], [73, 210], [75, 195], [75, 200], [77, 200], [73, 164], [72, 180], [75, 220], [70, 195], [74, 205], [72, 170], [80, 240], [71, 210], [71, 195], [74, 200], [74, 205], [73, 192], [75, 190], [76, 170], [73, 240], [77, 200], [72, 205], [73, 175], [77, 250], [76, 220], [71, 224], [75,\n",
        "210], [73, 195], [74, 180], [77, 245], [71, 175], [72, 180], [73, 215], [69, 175], [73, 180], [70, 195], [74, 230], [76, 230], [73, 205], [73, 215], [75, 195], [73, 180], [79, 205], [74, 180], [73, 190], [74, 180], [77, 190], [75, 190], [74, 220], [73, 210], [77, 255], [73, 190], [77, 230], [74, 200], [74, 205], [73, 210], [77,\n",
        "225], [74, 215], [77, 220], [75, 205], [77, 200], [75, 220], [71, 197], [74, 225], [70, 187], [79, 245], [72, 185], [72, 185], [70, 175], [74, 200], [74, 180], [72, 188], [73, 225], [72, 200], [74, 210], [74, 245], [76, 213], [82, 231], [74, 165], [74, 228], [70, 210], [73, 250], [73, 191], [74, 190], [77, 200], [72, 215], [76,\n",
        "254], [73, 232], [73, 180], [72, 215], [74, 220], [74, 180], [71, 200], [72, 170], [75, 195], [74, 210], [74, 200], [77, 220], [70, 165], [71, 180], [73, 200], [76, 200], [71, 170], [75, 224], [74, 220], [72, 180], [76, 198], [79, 240], [76, 239], [73, 185], [76, 210], [78, 220], [75, 200], [76, 195], [72, 220], [72, 230], [73,\n",
        "170], [73, 220], [75, 230], [71, 165], [76, 205], [70, 192], [75, 210], [74, 205], [75, 200], [73, 210], [71, 185], [71, 195], [72, 202], [73, 205], [73, 195], [72, 180], [69, 200], [73, 185], [78, 240], [71, 185], [73, 220], [75, 205], [76, 205], [70, 180], [74, 201], [77, 190], [75, 208], [79, 240], [72, 180], [77, 230], [73,\n",
        "195], [75, 215], [75, 190], [75, 195], [73, 215], [73, 215], [76, 220], [77, 220], [75, 230], [70, 195], [71, 190], [71, 195], [75, 209], [74, 204], [69, 170], [70, 185], [75, 205], [72, 175], [75, 210], [73, 190], [72, 180], [72, 180], [72, 160], [76, 235], [75, 200], [74, 210], [69, 180], [73, 190], [72, 197], [72, 203], [75,\n",
        "205], [77, 170], [76, 200], [80, 250], [77, 200], [76, 220], [79, 200], [71, 190], [75, 170], [73, 190], [76, 220], [77, 215], [73, 206], [76, 215], [70, 185], [75, 235], [73, 188], [75, 230], [70, 195], [69, 168], [71, 190], [72, 160], [72, 200], [73, 200], [70, 189], [70, 180], [73, 190], [76, 200], [75, 220], [72, 187], [73,\n",
        "240], [79, 190], [71, 180], [72, 185], [74, 210], [74, 220], [74, 219], [72, 190], [76, 193], [76, 175], [72, 180], [72, 215], [71, 210], [72, 200], [72, 190], [70, 185], [77, 220], [74, 170], [72, 195], [76, 205], [71, 195], [76, 210], [71, 190], [73, 190], [70, 180], [73, 220], [73, 190], [72, 186], [71, 185], [71, 190], [71,\n",
        "180], [72, 190], [72, 170], [74, 210], [74, 240], [74, 220], [71, 180], [72, 210], [75, 210], [72, 195], [71, 160], [72, 180], [72, 205], [72, 200], [72, 185], [74, 245], [74, 190], [77, 210], [75, 200], [73, 200], [75, 222], [73, 215], [76, 240], [72, 170], [77, 220], [75, 156], [72, 190], [71, 202], [71, 221], [75, 200], [72,\n",
        "190], [73, 210], [73, 190], [71, 200], [70, 165], [75, 190], [71, 185], [76, 230], [73, 208], [68, 209], [71, 175], [72, 180], [74, 200], [77, 205], [72, 200], [76, 250], [78, 210], [81, 230], [72, 244], [73, 202], [76, 240], [72, 200], [72, 215], [74, 177], [76, 210], [73, 170], [76, 215], [75, 217], [70, 198], [71, 200], [74,\n",
        "220], [72, 170], [73, 200], [76, 230], [76, 231], [73, 183], [71, 192], [68, 167], [71, 190], [71, 180], [74, 180], [77, 215], [69, 160], [72, 205], [76, 223], [75, 175], [76, 170], [75, 190], [76, 240], [72, 175], [74, 230], [76, 223], [74, 196], [72, 167], [75, 195], [78, 190], [77, 250], [70, 190], [72, 190], [79, 190], [74,\n",
        "170], [71, 160], [68, 150], [77, 225], [75, 220], [71, 209], [72, 210], [70, 176], [72, 260], [72, 195], [73, 190], [72, 184], [74, 180], [72, 195], [72, 195], [75, 219], [72, 225], [73, 212], [74, 202], [72, 185], [78, 200], [75, 209], [72, 200], [74, 195], [75, 228], [75, 210], [76, 190], [74, 212], [74, 190], [73, 218], [74,\n",
        "220], [71, 190], [74, 235], [75, 210], [76, 200], [74, 188], [76, 210], [76, 235], [73, 188], [75, 215], [75, 216], [74, 220], [68, 180], [72, 185], [75, 200], [71, 210], [70, 220], [72, 185], [73, 231], [72, 210], [75, 195], [74, 200], [70, 205], [76, 200], [71, 190], [82, 250], [72, 185], [73, 180], [74, 170], [71, 180], [75,\n",
        "208], [77, 235], [72, 215], [74, 244], [72, 220], [73, 185], [78, 230], [77, 190], [73, 200], [73, 180], [73, 190], [73, 196], [73, 180], [76, 230], [75, 224], [70, 160], [73, 178], [72, 205], [73, 185], [75, 210], [74, 180], [73, 190], [73, 200], [76, 257], [73, 190], [75, 220], [70, 165], [77, 205], [72, 200], [77, 208], [74,\n",
        "185], [75, 215], [75, 170], [75, 235], [75, 210], [72, 170], [74, 180], [71, 170], [76, 190], [71, 150], [75, 230], [76, 203], [83, 260], [75, 246], [74, 186], [76, 210], [72, 198], [72, 210], [75, 215], [75, 180], [72, 200], [77, 245], [73, 200], [72, 192], [70, 192], [74, 200], [72, 192], [74, 205], [72, 190], [71, 186], [70,\n",
        "170], [71, 197], [76, 219], [74, 200], [76, 220], [74, 207], [74, 225], [74, 207], [75, 212], [75, 225], [71, 170], [71, 190], [74, 210], [77, 230], [71, 210], [74, 200], [75, 238], [77, 234], [76, 222], [74, 200], [76, 190], [72, 170], [71, 220], [72, 223], [75, 210], [73, 215], [68, 196], [72, 175], [69, 175], [73, 189], [73,\n",
        "205], [75, 210], [70, 180], [70, 180], [74, 197], [75, 220], [74, 228], [74, 190], [73, 204], [74, 165], [75, 216], [77, 220], [73, 208], [74, 210], [76, 215], [74, 195], [75, 200], [73, 215], [76, 229], [78, 240], [75, 207], [73, 205], [77, 208], [74, 185], [72, 190], [74, 170], [72, 208], [71, 225], [73, 190], [75, 225], [73,\n",
        "185], [67, 180], [67, 165], [76, 240], [74, 220], [73, 212], [70, 163], [75, 215], [70, 175], [72, 205], [77, 210], [79, 205], [78, 208]]\n"
      ],
      "metadata": {
        "id": "zRhtLTGM7EUP"
      }
    },
    {
      "cell_type": "markdown",
      "source": [
        "Task# 12\n",
        "\n",
        "a. Using the 2D array you created earlier, print out the 50th row of np_baseball.\n",
        "\n",
        "b. Make a new variable, np_weight_lb_n, containing the entire second column of\n",
        "np_baseball. Print out np_weight_lb_n\n",
        "\n",
        "c. Select the height (first column) of the 124th baseball player in np_baseball and print\n",
        "it out.\n",
        "\n"
      ],
      "metadata": {
        "id": "rxgwsCRc7EW2"
      }
    },
    {
      "cell_type": "markdown",
      "source": [
        "Task# 13\n",
        "\n",
        "Create a Numpy Array price using the below matrix and add 100 to it.\n",
        "\n",
        "![image.png](data:image/png;base64,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)"
      ],
      "metadata": {
        "id": "oET7PMbC7EZe"
      }
    },
    {
      "cell_type": "markdown",
      "source": [
        "Task# 14\n",
        "\n",
        "Multiply the Price in 2019 to the Inflation Rate\n",
        "(7 %) and Store the new price as price2020x_adjusted"
      ],
      "metadata": {
        "id": "2TimviSE7EcN"
      }
    },
    {
      "cell_type": "markdown",
      "source": [],
      "metadata": {
        "id": "dIK8fEUL7Eet"
      }
    },
    {
      "cell_type": "markdown",
      "source": [],
      "metadata": {
        "id": "cU7Ks4KE7Ehl"
      }
    },
    {
      "cell_type": "markdown",
      "source": [],
      "metadata": {
        "id": "r58xHfl87EkN"
      }
    },
    {
      "cell_type": "code",
      "source": [],
      "metadata": {
        "id": "N0djR_lE6Vf8"
      },
      "execution_count": null,
      "outputs": []
    }
  ]
}