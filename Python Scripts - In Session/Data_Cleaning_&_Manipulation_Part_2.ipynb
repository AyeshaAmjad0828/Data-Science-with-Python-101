{
  "nbformat": 4,
  "nbformat_minor": 0,
  "metadata": {
    "colab": {
      "provenance": []
    },
    "kernelspec": {
      "name": "python3",
      "display_name": "Python 3"
    },
    "language_info": {
      "name": "python"
    }
  },
  "cells": [
    {
      "cell_type": "markdown",
      "source": [
        "# Feature Engineering"
      ],
      "metadata": {
        "id": "FpW2GozzFZuK"
      }
    },
    {
      "cell_type": "markdown",
      "source": [
        "### Task# 1\n",
        "\n",
        "a. Read data from: https://raw.githubusercontent.com/AyeshaAmjad0828/Data-Science-with-Python-101/main/Datasets/BarChart.xlsx\n",
        "\n",
        "b. import pandas, numpy, and sklearn"
      ],
      "metadata": {
        "id": "EDml4nzJX5Bh"
      }
    },
    {
      "cell_type": "code",
      "source": [
        "import pandas as pd\n",
        "import numpy as np"
      ],
      "metadata": {
        "id": "7FM2fyxUYF6R"
      },
      "execution_count": 1,
      "outputs": []
    },
    {
      "cell_type": "markdown",
      "source": [
        "### Task# 2\n",
        "\n",
        "a. Apply Lable encoding on the 'Product' field."
      ],
      "metadata": {
        "id": "zar-lTbRYqXv"
      }
    },
    {
      "cell_type": "markdown",
      "source": [
        "### Task# 3\n",
        "\n",
        "a. Apply Onehot encoding on the 'Product' field.\n",
        "\n",
        "b. What different do you observe between label encoding and onehot encoding on your dataset?"
      ],
      "metadata": {
        "id": "7zatYTwGY4lm"
      }
    },
    {
      "cell_type": "markdown",
      "source": [
        "### Task# 4\n",
        "\n",
        "a. Create dummy variables on 'Product' field.\n",
        "\n",
        "b. Create a correlation matrix and heatmap on Newly encoded fields."
      ],
      "metadata": {
        "id": "2YOvBMaxZeO_"
      }
    },
    {
      "cell_type": "code",
      "source": [],
      "metadata": {
        "id": "N0_UzFkLZbkK"
      },
      "execution_count": null,
      "outputs": []
    },
    {
      "cell_type": "markdown",
      "source": [
        "# Interaction Variable"
      ],
      "metadata": {
        "id": "eUv5mTy1Xa64"
      }
    },
    {
      "cell_type": "markdown",
      "source": [
        "### Task# 5\n",
        "\n",
        "a. Create interactive variable between store and product."
      ],
      "metadata": {
        "id": "4zoN27QDZLE-"
      }
    },
    {
      "cell_type": "markdown",
      "source": [
        "### Task# 6\n",
        "\n",
        "a. Create interactive variable between storeA and productX."
      ],
      "metadata": {
        "id": "nq_CtR61Xlhr"
      }
    },
    {
      "cell_type": "markdown",
      "source": [
        "# Feature Scaling"
      ],
      "metadata": {
        "id": "sAv2tljHFZ0c"
      }
    },
    {
      "cell_type": "markdown",
      "source": [
        "### Log Normal\n",
        "For Normal Distribution:\n",
        "\n",
        "     Mean = μ ,\n",
        "\n",
        "     Std = σ,\n",
        "\n",
        "     Skewness = 0,\n",
        "\n",
        "     Kurtosis = 3\n"
      ],
      "metadata": {
        "id": "2rOo3wVoOuee"
      }
    },
    {
      "cell_type": "markdown",
      "source": [
        "### Task# 7\n",
        "\n",
        "a. Read data from https://raw.githubusercontent.com/AyeshaAmjad0828/Data-Science-with-Python-101/main/Datasets/CAR%20DETAILS.csv\n",
        "\n",
        "b. Create a histogram on Selling price field.\n",
        "\n",
        "d. Is this field following proper normal distribution."
      ],
      "metadata": {
        "id": "H8Kq3xCqNxo_"
      }
    },
    {
      "cell_type": "markdown",
      "source": [
        "### Task# 8\n",
        "\n",
        "\n",
        "a. Compute skewness and kurtosis of selling_price field.\n",
        "\n",
        "b. Is this field following normally distribution?"
      ],
      "metadata": {
        "id": "bMJxgckINxwT"
      }
    },
    {
      "cell_type": "markdown",
      "source": [
        "### Task# 9\n",
        "\n",
        "a. Apply log transformation on selling price field and create log_selling_price.\n",
        "\n",
        "b. Compute skewness and kurtosis\n",
        "\n",
        "c. Create a histogram on log_selling_price.\n",
        "\n",
        "d. Do you think normality has been achieved?"
      ],
      "metadata": {
        "id": "aELFYUKCNxzb"
      }
    },
    {
      "cell_type": "markdown",
      "source": [
        "### Standard Normal (Standardization)\n",
        "For Standard Normal Distribution:\n",
        "\n",
        "     Mean = 0 ,\n",
        "\n",
        "     Std = 1,\n",
        "\n",
        "     Skewness = 0,\n",
        "\n",
        "     Kurtosis = 3"
      ],
      "metadata": {
        "id": "T7NCo5o0Nx2T"
      }
    },
    {
      "cell_type": "markdown",
      "source": [
        "### Task# 10\n",
        "\n",
        "a. Apply standard scaler on selling price field and create std_selling_price.\n",
        "\n",
        "b. Compute  Mean and standard deviation on std_selling_price.\n",
        "\n",
        "c. Create a histogram on std_selling_price.\n",
        "\n",
        "d. Do you think standard normality has been achieved?"
      ],
      "metadata": {
        "id": "1Wyn3GnrPe5R"
      }
    },
    {
      "cell_type": "code",
      "execution_count": null,
      "metadata": {
        "id": "Zl_A6IRdFNne"
      },
      "outputs": [],
      "source": []
    },
    {
      "cell_type": "markdown",
      "source": [
        "### Normalization\n",
        "\n",
        "Two types of Normalization:\n",
        "\n",
        "     Mean Normalization ,\n",
        "\n",
        "     Min-Max Normalization,\n"
      ],
      "metadata": {
        "id": "B8U_aZWacm0z"
      }
    },
    {
      "cell_type": "markdown",
      "source": [
        "### Task# 11\n",
        "\n",
        "a. Apply min-max normalization on Killometer driven field.\n",
        "\n",
        "b. Apply mean normalization on killometer driven field.\n",
        "\n",
        "c. Do you observe any difference?"
      ],
      "metadata": {
        "id": "nvIBWw9NcxOu"
      }
    },
    {
      "cell_type": "code",
      "source": [],
      "metadata": {
        "id": "mqFlclP_cv44"
      },
      "execution_count": null,
      "outputs": []
    }
  ]
}