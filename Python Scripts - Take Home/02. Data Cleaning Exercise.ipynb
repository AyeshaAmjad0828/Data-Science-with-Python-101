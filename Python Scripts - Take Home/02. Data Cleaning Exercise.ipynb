{
 "cells": [
  {
   "cell_type": "markdown",
   "metadata": {},
   "source": [
    "# Data Cleaning Exercise"
   ]
  },
  {
   "cell_type": "markdown",
   "metadata": {},
   "source": [
    "Perform the following tasks and clean the data from csv file (EmpData.csv)\n",
    "\n",
    "- Dropping unused column\n",
    "- Removing duplicate\n",
    "- Mapping of Data\n",
    "- Dealing with null data\n",
    "- Standardize the BasePay, OverTime and OtherPay column\n",
    "- Normalize the TotalPay and TotalPayBenefits column\n",
    "\n",
    "**You may clean the data further if you can find any anamolies. Also perform EDA of the data (Use graphs).**"
   ]
  },
  {
   "cell_type": "code",
   "execution_count": null,
   "metadata": {},
   "outputs": [],
   "source": []
  }
 ],
 "metadata": {
  "kernelspec": {
   "display_name": "Python 3",
   "language": "python",
   "name": "python3"
  },
  "language_info": {
   "codemirror_mode": {
    "name": "ipython",
    "version": 3
   },
   "file_extension": ".py",
   "mimetype": "text/x-python",
   "name": "python",
   "nbconvert_exporter": "python",
   "pygments_lexer": "ipython3",
   "version": "3.7.3"
  }
 },
 "nbformat": 4,
 "nbformat_minor": 5
}
