{
  "cells": [
    {
      "cell_type": "markdown",
      "metadata": {
        "id": "fpvHHbTmEzSR"
      },
      "source": [
        "Object-oriented programming has some advantages over other design patterns. Development is faster and cheaper, with better software maintainability. This, in turn, leads to higher-quality software, which is also extensible with new methods and attributes. The learning curve is, however, steeper. The concept may be too complex for beginners. Computationally, OOP software is slower, and uses more memory since more lines of code have to be written.\n"
      ]
    },
    {
      "cell_type": "markdown",
      "metadata": {
        "id": "PzsBxcXnFDql"
      },
      "source": [
        "OOP uses the concept of objects and classes. A class can be thought of as a 'blueprint' for objects. These can have their own attributes (characteristics they possess), and methods (actions they perform)."
      ]
    },
    {
      "cell_type": "markdown",
      "metadata": {
        "id": "GqlYnkrBFJ7B"
      },
      "source": [
        "**OOP Example1:**\n",
        "An example of a class is the class Dog. Don't think of it as a specific dog, or your own dog. We're describing what a dog is and can do, in general. Dogs usually have a name and age; these are instance attributes. Dogs can also bark; this is a method.\n",
        "\n",
        "When you talk about a specific dog, you would have an object in programming: an object is an instantiation of a class. This is the basic principle on which object-oriented programming is based. So my dog Ozzy, for example, belongs to the class Dog. His attributes are name = 'Ozzy' and age = '2'. A different dog will have different attributes."
      ]
    },
    {
      "cell_type": "markdown",
      "metadata": {},
      "source": [
        "**OOP Example2:**\n",
        "Relating it to what we have learned so far. *List* is a class. It is a built-in class provided by python and has some predefined attributes or properties. For example a list is always denoted by square brackets [] and can contain values of all different data types.\n",
        "\n",
        "When you talk about a specific list, you would have an object in programming: an object is an instantiation of a class. For example, fruits = ['apple','cherry','banana'], where fruits is an object that belongs to the List class."
      ]
    },
    {
      "cell_type": "markdown",
      "metadata": {
        "id": "2akaj6CeFLa1"
      },
      "source": [
        "How to create a class\n",
        "To define a class in Python, you can use the class keyword, followed by the class name and a colon. Inside the class, an __init__ method has to be defined with def. This is the initializer that you can later use to instantiate objects. It's similar to a constructor in Java. __init__ must always be present! It takes one argument: self, which refers to the object itself. Inside the method, the pass keyword is used as of now, because Python expects you to type something there. Remember to use correct indentation!"
      ]
    },
    {
      "cell_type": "code",
      "execution_count": 21,
      "metadata": {
        "id": "SLmQh_NoFdEa"
      },
      "outputs": [],
      "source": [
        "class Dog:\n",
        "\n",
        "    def __init__(self):\n",
        "        pass"
      ]
    },
    {
      "cell_type": "markdown",
      "metadata": {
        "id": "c5I8P2buFpGl"
      },
      "source": [
        "Instantiating objects\n",
        "To instantiate an object, type the class name, followed by two brackets. You can assign this to a variable to keep track of the object."
      ]
    },
    {
      "cell_type": "code",
      "execution_count": 22,
      "metadata": {
        "id": "DT8idT8ZFt78"
      },
      "outputs": [],
      "source": [
        "ozzy = Dog()"
      ]
    },
    {
      "cell_type": "code",
      "execution_count": 23,
      "metadata": {
        "colab": {
          "base_uri": "https://localhost:8080/"
        },
        "id": "_MmCWHp3Fvrd",
        "outputId": "1a960972-0d50-4891-e4a7-7b12676f9931"
      },
      "outputs": [
        {
          "name": "stdout",
          "output_type": "stream",
          "text": [
            "<__main__.Dog object at 0x7f9f7f70df28>\n"
          ]
        }
      ],
      "source": [
        "print(ozzy)"
      ]
    },
    {
      "cell_type": "code",
      "execution_count": 77,
      "metadata": {
        "colab": {
          "base_uri": "https://localhost:8080/"
        },
        "id": "59xMVf56Zpx5",
        "outputId": "fbbd9308-9d5c-4477-bce9-b6226cbdc008"
      },
      "outputs": [
        {
          "data": {
            "text/plain": [
              "<__main__.Dog at 0x7f9f77019fd0>"
            ]
          },
          "execution_count": 77,
          "metadata": {
            "tags": []
          },
          "output_type": "execute_result"
        }
      ],
      "source": [
        "Dog()"
      ]
    },
    {
      "cell_type": "markdown",
      "metadata": {
        "id": "H3WGiJTSF1xJ"
      },
      "source": [
        "Adding attributes to a class\n",
        "After printing ozzy, it is clear that this object is a dog. But you haven't added any attributes yet. Let's give the Dog class a name and age, by rewriting it:"
      ]
    },
    {
      "cell_type": "code",
      "execution_count": 24,
      "metadata": {
        "id": "YoE0otedF8VB"
      },
      "outputs": [],
      "source": [
        "class Dog:\n",
        "\n",
        "    def __init__(self, name, age):  \n",
        "        self.name = name\n",
        "        self.age = age"
      ]
    },
    {
      "cell_type": "markdown",
      "metadata": {
        "id": "Nq7WywMgGDOC"
      },
      "source": [
        "You can see that the function now takes two arguments after self: name and age. These then get assigned to self.name and self.age respectively. You can now now create a new ozzy object, with a name and age:"
      ]
    },
    {
      "cell_type": "code",
      "execution_count": 25,
      "metadata": {
        "id": "da7HxDvgGE3K"
      },
      "outputs": [],
      "source": [
        "ozzy = Dog(\"Ozzy\", 2)"
      ]
    },
    {
      "cell_type": "code",
      "execution_count": 26,
      "metadata": {
        "colab": {
          "base_uri": "https://localhost:8080/"
        },
        "id": "pEmbP7u_GHQh",
        "outputId": "38cc4b07-20d7-4c82-f920-1b5776a6ad4f"
      },
      "outputs": [
        {
          "name": "stdout",
          "output_type": "stream",
          "text": [
            "Ozzy\n",
            "2\n"
          ]
        }
      ],
      "source": [
        "print(ozzy.name)\n",
        "\n",
        "print(ozzy.age)"
      ]
    },
    {
      "cell_type": "markdown",
      "metadata": {
        "id": "L0NdASzVGUOu"
      },
      "source": [
        "This can also be combined in a more elaborate sentence:"
      ]
    },
    {
      "cell_type": "code",
      "execution_count": 27,
      "metadata": {
        "colab": {
          "base_uri": "https://localhost:8080/"
        },
        "id": "M_SmCjhAGVSO",
        "outputId": "3cf74767-d45b-4ee5-8637-10f231244164"
      },
      "outputs": [
        {
          "name": "stdout",
          "output_type": "stream",
          "text": [
            "Ozzy is 2 year(s) old.\n"
          ]
        }
      ],
      "source": [
        "print(ozzy.name + \" is \" + str(ozzy.age) + \" year(s) old.\")"
      ]
    },
    {
      "cell_type": "markdown",
      "metadata": {
        "id": "MGcwlyI4GbUE"
      },
      "source": [
        "The str() function is used here to convert the age attribute, which is an integer, to a string, so you can use it in the print() function."
      ]
    },
    {
      "cell_type": "markdown",
      "metadata": {
        "id": "R1PvQ05FGgHu"
      },
      "source": [
        "Define methods in a class\n",
        "Now that you have aDog class, it does have a name and age which you can keep track of, but it doesn't actually do anything. This is where instance methods come in. You can rewrite the class to now include a bark() method. Notice how the def keyword is used again, as well as the self argument."
      ]
    },
    {
      "cell_type": "code",
      "execution_count": 28,
      "metadata": {
        "id": "PTbhEg_iGcSi"
      },
      "outputs": [],
      "source": [
        "class Dog:\n",
        "\n",
        "    def __init__(self, name, age):  \n",
        "        self.name = name\n",
        "        self.age = age\n",
        "\n",
        "    def bark(self):\n",
        "        print(\"bark bark!\")"
      ]
    },
    {
      "cell_type": "markdown",
      "metadata": {
        "id": "xpCexgD9GpOS"
      },
      "source": [
        "The bark method can now be called using the dot notation, after instantiating a new ozzy object. The method should print \"bark bark!\" to the screen. Notice the parentheses (curly brackets) in .bark(). These are always used when calling a method. They're empty in this case, since the bark() method does not take any arguments."
      ]
    },
    {
      "cell_type": "code",
      "execution_count": 29,
      "metadata": {
        "colab": {
          "base_uri": "https://localhost:8080/"
        },
        "id": "kVDowaJvGlVa",
        "outputId": "601b192a-b7d0-4021-fec5-33b5c1ad05d5"
      },
      "outputs": [
        {
          "name": "stdout",
          "output_type": "stream",
          "text": [
            "bark bark!\n"
          ]
        }
      ],
      "source": [
        "ozzy = Dog(\"Ozzy\", 2)\n",
        "\n",
        "ozzy.bark()"
      ]
    },
    {
      "cell_type": "markdown",
      "metadata": {
        "id": "lq8nvwQZGtEI"
      },
      "source": [
        "Recall how you printed ozzy earlier? The code below now implements this functionality in the Dog class, with the doginfo() method. You then instantiate some objects with different properties, and call the method on them."
      ]
    },
    {
      "cell_type": "code",
      "execution_count": 30,
      "metadata": {
        "id": "2MK47iFpGwmJ"
      },
      "outputs": [],
      "source": [
        "class Dog:\n",
        "\n",
        "    def __init__(self, name, age):  \n",
        "        self.name = name\n",
        "        self.age = age\n",
        "\n",
        "    def bark(self):\n",
        "        print(\"bark bark!\")\n",
        "\n",
        "    def doginfo(self):\n",
        "        print(self.name + \" is \" + str(self.age) + \" year(s) old.\")\n",
        "\n"
      ]
    },
    {
      "cell_type": "code",
      "execution_count": 31,
      "metadata": {
        "colab": {
          "base_uri": "https://localhost:8080/"
        },
        "id": "VE5rCpKaUsHZ",
        "outputId": "7c1eb70b-18fb-4d85-8086-006a4c7bd5be"
      },
      "outputs": [
        {
          "name": "stdout",
          "output_type": "stream",
          "text": [
            "Ozzy is 2 year(s) old.\n",
            "Skippy is 12 year(s) old.\n",
            "Filou is 8 year(s) old.\n"
          ]
        }
      ],
      "source": [
        "ozzy = Dog(\"Ozzy\", 2)\n",
        "skippy = Dog(\"Skippy\", 12)\n",
        "filou = Dog(\"Filou\", 8)\n",
        "ozzy.doginfo()\n",
        "skippy.doginfo()\n",
        "filou.doginfo()"
      ]
    },
    {
      "cell_type": "code",
      "execution_count": 12,
      "metadata": {
        "id": "vE0xu87-G9Qs"
      },
      "outputs": [],
      "source": [
        "ozzy.age = 3"
      ]
    },
    {
      "cell_type": "code",
      "execution_count": 13,
      "metadata": {
        "id": "8Ed67tHuG-Fg"
      },
      "outputs": [],
      "source": [
        "class Dog:\n",
        "\n",
        "    def __init__(self, name, age):  \n",
        "        self.name = name\n",
        "        self.age = age\n",
        "\n",
        "    def bark(self):\n",
        "        print(\"bark bark!\")\n",
        "\n",
        "    def doginfo(self):\n",
        "        print(self.name + \" is \" + str(self.age) + \" year(s) old.\")\n",
        "\n",
        "    def birthday(self):\n",
        "        self.age +=1\n",
        "\n"
      ]
    },
    {
      "cell_type": "code",
      "execution_count": 14,
      "metadata": {
        "colab": {
          "base_uri": "https://localhost:8080/"
        },
        "id": "1jmrZHrLHHKZ",
        "outputId": "135918b4-b232-40dc-9b0f-70390496d561"
      },
      "outputs": [
        {
          "name": "stdout",
          "output_type": "stream",
          "text": [
            "2\n"
          ]
        }
      ],
      "source": [
        "ozzy = Dog(\"Ozzy\", 2)\n",
        "print(ozzy.age)\n",
        "ozzy.birthday()"
      ]
    },
    {
      "cell_type": "markdown",
      "metadata": {
        "id": "yUFo9goQHKyb"
      },
      "source": [
        "Now, you don't need to manually change the dog's age. whenever it is its birthday, you can just call the birthday() method."
      ]
    },
    {
      "cell_type": "markdown",
      "metadata": {
        "id": "D5nCwK5EHQhf"
      },
      "source": [
        "Passing arguments to methods\n",
        "You would like for our dogs to have a buddy. This should be optional, since not all dogs are as sociable. Take a look at the setBuddy() method below. It takes self, as per usual, and buddy as arguments. In this case, buddy will be another Dog object. Set the self.buddy attribute to buddy, and the buddy.buddy attribute to self. This means that the relationship is reciprocal; you are your buddy's buddy. In this case, Filou will be Ozzy's buddy, which means that Ozzy automatically becomes Filou's buddy. You could also set these attributes manually, instead of defining a method, but that would require more work (writing 2 lines of code instead of 1) every time you want to set a buddy. Notice that in Python, you don't need to specify of what type the argument is. If this were Java, it would be required."
      ]
    },
    {
      "cell_type": "code",
      "execution_count": 32,
      "metadata": {
        "id": "uJnafNxpHVe5"
      },
      "outputs": [],
      "source": [
        "class Dog:\n",
        "\n",
        "    def __init__(self, name, age):  \n",
        "        self.name = name\n",
        "        self.age = age\n",
        "\n",
        "    def bark(self):\n",
        "        print(\"bark bark!\")\n",
        "\n",
        "    def doginfo(self):\n",
        "        print(self.name + \" is \" + str(self.age) + \" year(s) old.\")\n",
        "\n",
        "    def birthday(self):\n",
        "        self.age +=1\n",
        "\n",
        "    def setBuddy(self, buddy):\n",
        "        self.buddy = buddy\n",
        "        buddy.buddy = self"
      ]
    },
    {
      "cell_type": "markdown",
      "metadata": {
        "id": "VSeB7vUkHaL4"
      },
      "source": [
        "You can now call the method with the dot notation, and pass it another Dog object. In this case, Ozzy's buddy will be Filou:"
      ]
    },
    {
      "cell_type": "code",
      "execution_count": 33,
      "metadata": {
        "id": "3Ko8B9PSHazB"
      },
      "outputs": [],
      "source": [
        "ozzy = Dog(\"Ozzy\", 2)\n",
        "filou = Dog(\"Filou\", 8)\n",
        "\n",
        "ozzy.setBuddy(filou)"
      ]
    },
    {
      "cell_type": "markdown",
      "metadata": {
        "id": "gfriJRYmHjkl"
      },
      "source": [
        "If you now want to get some information about Ozzy's buddy, you can use the dot notation twice:. First, to refer to Ozzy's buddy, and a second time to refer to its attribute."
      ]
    },
    {
      "cell_type": "code",
      "execution_count": 34,
      "metadata": {
        "colab": {
          "base_uri": "https://localhost:8080/"
        },
        "id": "AffBgEiQHjFK",
        "outputId": "c5236acc-fec6-47d3-95a6-0c7bf86706b6"
      },
      "outputs": [
        {
          "name": "stdout",
          "output_type": "stream",
          "text": [
            "Filou\n",
            "8\n"
          ]
        }
      ],
      "source": [
        "print(ozzy.buddy.name)\n",
        "print(ozzy.buddy.age)"
      ]
    },
    {
      "cell_type": "markdown",
      "metadata": {
        "id": "uP2gPvTNHqdJ"
      },
      "source": [
        "Notice how this can also be done for Filou."
      ]
    },
    {
      "cell_type": "code",
      "execution_count": 35,
      "metadata": {
        "colab": {
          "base_uri": "https://localhost:8080/"
        },
        "id": "0R8QQAxVHu4R",
        "outputId": "dde70300-3c3c-420b-fc30-51a498673b8a"
      },
      "outputs": [
        {
          "name": "stdout",
          "output_type": "stream",
          "text": [
            "Ozzy\n",
            "2\n"
          ]
        }
      ],
      "source": [
        "print(filou.buddy.name)\n",
        "print(filou.buddy.age)"
      ]
    },
    {
      "cell_type": "code",
      "execution_count": 46,
      "metadata": {
        "colab": {
          "base_uri": "https://localhost:8080/"
        },
        "id": "wsAxKQmCH0Hi",
        "outputId": "ec1a65f6-5d10-4d2b-c909-72642ca5fe00"
      },
      "outputs": [
        {
          "name": "stdout",
          "output_type": "stream",
          "text": [
            "Filou is 8 year(s) old.\n"
          ]
        }
      ],
      "source": [
        "ozzy.buddy.doginfo()"
      ]
    },
    {
      "cell_type": "markdown",
      "metadata": {
        "id": "VKq-k2YOLE4U"
      },
      "source": [
        "Instance Methods\n",
        "Instance methods are functions that are defined inside a class and can only be called from an instance of that class. Just like .__init__(), an instance method’s first parameter is always self."
      ]
    },
    {
      "cell_type": "code",
      "execution_count": 79,
      "metadata": {
        "id": "x1tERWuoK9an"
      },
      "outputs": [],
      "source": [
        "class Dog:\n",
        "    species = \"Canis familiaris\"\n",
        "\n",
        "    def __init__(self, name, age):\n",
        "        self.name = name\n",
        "        self.age = age\n",
        "\n",
        "    # Instance method\n",
        "    def description(self):\n",
        "        return f\"{self.name} is {self.age} years old\"\n",
        "\n",
        "    # Another instance method\n",
        "    def speak(self, sound):\n",
        "        return f\"{self.name} says {sound}\""
      ]
    },
    {
      "cell_type": "code",
      "execution_count": 81,
      "metadata": {
        "colab": {
          "base_uri": "https://localhost:8080/"
        },
        "id": "kZdIW2EcLwu7",
        "outputId": "64b0534b-106a-4631-a235-0a0c817b8842"
      },
      "outputs": [
        {
          "name": "stdout",
          "output_type": "stream",
          "text": [
            "Canis familiaris\n",
            "<__main__.Dog object at 0x7f9f76fa0128>\n"
          ]
        }
      ],
      "source": [
        "miles = Dog(\"Miles\", 4)\n",
        "print(miles.species)\n",
        "print(miles)"
      ]
    },
    {
      "cell_type": "code",
      "execution_count": 40,
      "metadata": {
        "colab": {
          "base_uri": "https://localhost:8080/",
          "height": 35
        },
        "id": "FhR-knneLRpA",
        "outputId": "9ce97631-f80a-4426-f0be-570705a3c89e"
      },
      "outputs": [
        {
          "data": {
            "application/vnd.google.colaboratory.intrinsic+json": {
              "type": "string"
            },
            "text/plain": [
              "'Miles says Bow Wow'"
            ]
          },
          "execution_count": 40,
          "metadata": {
            "tags": []
          },
          "output_type": "execute_result"
        }
      ],
      "source": [
        "miles = Dog(\"Miles\", 4)\n",
        "\n",
        "miles.description()\n",
        "#'Miles is 4 years old'\n",
        "\n",
        "miles.speak(\"Woof Woof\")\n",
        "#'Miles says Woof Woof'\n",
        "\n",
        "miles.speak(\"Bow Wow\")\n",
        "#'Miles says Bow Wow'"
      ]
    },
    {
      "cell_type": "markdown",
      "metadata": {
        "id": "iNCMvC7vLnFW"
      },
      "source": [
        "In the above Dog class, .description() returns a string containing information about the Dog instance miles. When writing your own classes, it’s a good idea to have a method that returns a string containing useful information about an instance of the class. However, .description() isn’t the most Pythonic way of doing this.\n"
      ]
    },
    {
      "cell_type": "markdown",
      "metadata": {
        "id": "8SGXf4fpLQUJ"
      },
      "source": [
        "This Dog class has two instance methods:\n",
        "\n",
        ".description() returns a string displaying the name and age of the dog.\n",
        ".speak() has one parameter called sound and returns a string containing the dog’s name and the sound the dog makes."
      ]
    },
    {
      "cell_type": "markdown",
      "metadata": {
        "id": "gdakveEWIdnI"
      },
      "source": [
        "Inheritance\n",
        "Inheritance is a way of creating a new class for using details of an existing class without modifying it. The newly formed class is a derived class (or child class). Similarly, the existing class is a base class (or parent class)."
      ]
    },
    {
      "cell_type": "code",
      "execution_count": 49,
      "metadata": {
        "colab": {
          "base_uri": "https://localhost:8080/"
        },
        "id": "RfQGLLstH7f3",
        "outputId": "131af639-1efc-48ff-bed5-0af6606e310e"
      },
      "outputs": [
        {
          "name": "stdout",
          "output_type": "stream",
          "text": [
            "Bird is ready\n",
            "Penguin is ready\n",
            "Penguin\n",
            "Swim faster\n",
            "Run faster\n"
          ]
        }
      ],
      "source": [
        "# parent class\n",
        "class Bird:\n",
        "    \n",
        "    def __init__(self):\n",
        "        print(\"Bird is ready\")\n",
        "\n",
        "    def whoisThis(self):\n",
        "        print(\"Bird\")\n",
        "\n",
        "    def swim(self):\n",
        "        print(\"Swim faster\")\n",
        "\n",
        "# child class\n",
        "class Penguin(Bird):\n",
        "\n",
        "    def __init__(self):\n",
        "        # call super() function\n",
        "        super().__init__()\n",
        "        print(\"Penguin is ready\")\n",
        "\n",
        "    def whoisThis(self):\n",
        "        print(\"Penguin\")\n",
        "\n",
        "    def run(self):\n",
        "        print(\"Run faster\")\n",
        "\n",
        "peggy = Penguin()\n",
        "peggy.whoisThis()\n",
        "peggy.swim()\n",
        "peggy.run()"
      ]
    },
    {
      "cell_type": "markdown",
      "metadata": {
        "id": "xlkKvubPI3ju"
      },
      "source": [
        "Encapsulation\n",
        "Using OOP in Python, we can restrict access to methods and variables. This prevents data from direct modification which is called encapsulation. In Python, we denote private attributes using underscore as the prefix i.e single _ or double __."
      ]
    },
    {
      "cell_type": "code",
      "execution_count": 50,
      "metadata": {
        "colab": {
          "base_uri": "https://localhost:8080/"
        },
        "id": "4tgvj0jOI8VF",
        "outputId": "fa95522e-1b28-4d31-b310-e6dc26507fa6"
      },
      "outputs": [
        {
          "name": "stdout",
          "output_type": "stream",
          "text": [
            "Selling Price: 900\n",
            "Selling Price: 900\n",
            "Selling Price: 1000\n"
          ]
        }
      ],
      "source": [
        "class Computer:\n",
        "\n",
        "    def __init__(self):\n",
        "        self.__maxprice = 900\n",
        "\n",
        "    def sell(self):\n",
        "        print(\"Selling Price: {}\".format(self.__maxprice))\n",
        "\n",
        "    def setMaxPrice(self, price):\n",
        "        self.__maxprice = price\n",
        "\n",
        "c = Computer()\n",
        "c.sell()\n",
        "\n",
        "# change the price\n",
        "c.__maxprice = 1000\n",
        "c.sell()\n",
        "\n",
        "# using setter function\n",
        "c.setMaxPrice(1000)\n",
        "c.sell()"
      ]
    },
    {
      "cell_type": "code",
      "execution_count": 53,
      "metadata": {
        "id": "JUih9G-8Jqyu"
      },
      "outputs": [],
      "source": [
        "#Example\n",
        "class Employee:\n",
        "   'Common base class for all employees'\n",
        "   empCount = 0 #variable whose value is shared among all instances of a this class. This can be accessed as Employee.empCount from inside the class or outside the class.\n",
        "\n",
        "   def __init__(self, name, salary): #initialization method that Python calls when you create a new instance of this class.\n",
        "      self.name = name  #You declare other class methods like normal functions with the exception that the first argument to each method is self. Python adds the self argument to the list for you; you do not need to include it when you call the methods.\n",
        "      self.salary = salary\n",
        "      Employee.empCount += 1\n",
        "   \n",
        "   def displayCount(self):\n",
        "     print (\"Total Employee %d\" % Employee.empCount)\n",
        "\n",
        "   def displayEmployee(self):\n",
        "      print (\"Name : \", self.name,  \", Salary: \", self.salary)"
      ]
    },
    {
      "cell_type": "code",
      "execution_count": 57,
      "metadata": {
        "id": "CHkCmNmZKe5T"
      },
      "outputs": [],
      "source": [
        "\"This would create first object of Employee class\"\n",
        "emp1 = Employee(\"Zara\", 2000)\n",
        "\"This would create second object of Employee class\"\n",
        "emp2 = Employee(\"Manni\", 5000)"
      ]
    },
    {
      "cell_type": "code",
      "execution_count": 58,
      "metadata": {
        "colab": {
          "base_uri": "https://localhost:8080/"
        },
        "id": "O5_3NGI2Kx6O",
        "outputId": "8ed9580e-835d-4cca-b3ed-9111fe0c7381"
      },
      "outputs": [
        {
          "name": "stdout",
          "output_type": "stream",
          "text": [
            "Name :  Zara , Salary:  2000\n",
            "Name :  Manni , Salary:  5000\n",
            "Total Employee 2\n"
          ]
        }
      ],
      "source": [
        "emp1.displayEmployee()\n",
        "emp2.displayEmployee()\n",
        "print (\"Total Employee %d\" % Employee.empCount)"
      ]
    },
    {
      "cell_type": "code",
      "execution_count": 61,
      "metadata": {
        "colab": {
          "base_uri": "https://localhost:8080/"
        },
        "id": "sANyLdbTK20A",
        "outputId": "9dd4de15-3b70-44cb-a4c8-b316a169dbdc"
      },
      "outputs": [
        {
          "name": "stdout",
          "output_type": "stream",
          "text": [
            "Name :  Zara , Salary:  2000\n",
            "Name :  Manni , Salary:  5000\n",
            "Total Employee 2\n"
          ]
        }
      ],
      "source": [
        "\n",
        "class Employee:\n",
        "   'Common base class for all employees'\n",
        "   empCount = 0\n",
        "\n",
        "   def __init__(self, name, salary):\n",
        "      self.name = name\n",
        "      self.salary = salary\n",
        "      Employee.empCount += 1\n",
        "   \n",
        "   def displayCount(self):\n",
        "     print (\"Total Employee %d\" % Employee.empCount)\n",
        "\n",
        "   def displayEmployee(self):\n",
        "      print (\"Name : \", self.name,  \", Salary: \", self.salary)\n",
        "\n",
        "#\"This would create first object of Employee class\"\n",
        "emp1 = Employee(\"Zara\", 2000)\n",
        "#\"This would create second object of Employee class\"\n",
        "emp2 = Employee(\"Manni\", 5000)\n",
        "emp1.displayEmployee()\n",
        "emp2.displayEmployee()\n",
        "print (\"Total Employee %d\" % Employee.empCount)"
      ]
    },
    {
      "cell_type": "markdown",
      "metadata": {
        "id": "TXusfXOpJAQL"
      },
      "source": [
        "In the above program, we defined a Computer class.\n",
        "\n",
        "We used __init__() method to store the maximum selling price of Computer. We tried to modify the price. However, we can't change it because Python treats the __maxprice as private attributes.\n",
        "\n",
        "As shown, to change the value, we have to use a setter function i.e setMaxPrice() which takes price as a parameter."
      ]
    },
    {
      "cell_type": "markdown",
      "metadata": {
        "id": "ITvJ1ASqJhDW"
      },
      "source": [
        "Polymorphism\n",
        "Polymorphism is an ability (in OOP) to use a common interface for multiple forms (data types).\n",
        "\n",
        "Suppose, we need to color a shape, there are multiple shape options (rectangle, square, circle). However we could use the same method to color any shape. This concept is called Polymorphism."
      ]
    },
    {
      "cell_type": "code",
      "execution_count": 51,
      "metadata": {
        "colab": {
          "base_uri": "https://localhost:8080/"
        },
        "id": "zQqtEql1JmX0",
        "outputId": "8a620cb6-36d5-4cef-df66-3126bd0d4aba"
      },
      "outputs": [
        {
          "name": "stdout",
          "output_type": "stream",
          "text": [
            "Parrot can fly\n",
            "Penguin can't fly\n"
          ]
        }
      ],
      "source": [
        "class Parrot:\n",
        "\n",
        "    def fly(self):\n",
        "        print(\"Parrot can fly\")\n",
        "    \n",
        "    def swim(self):\n",
        "        print(\"Parrot can't swim\")\n",
        "\n",
        "class Penguin:\n",
        "\n",
        "    def fly(self):\n",
        "        print(\"Penguin can't fly\")\n",
        "    \n",
        "    def swim(self):\n",
        "        print(\"Penguin can swim\")\n",
        "\n",
        "# common interface\n",
        "def flying_test(bird):\n",
        "    bird.fly()\n",
        "\n",
        "#instantiate objects\n",
        "blu = Parrot()\n",
        "peggy = Penguin()\n",
        "\n",
        "# passing the object\n",
        "flying_test(blu)\n",
        "flying_test(peggy)\n"
      ]
    },
    {
      "cell_type": "markdown",
      "metadata": {
        "id": "vLdNtHxxJpqH"
      },
      "source": [
        "In the above program, we defined two classes Parrot and Penguin. Each of them have a common fly() method. However, their functions are different.\n",
        "\n",
        "To use polymorphism, we created a common interface i.e flying_test() function that takes any object and calls the object's fly() method. Thus, when we passed the blu and peggy objects in the flying_test() function, it ran effectively."
      ]
    },
    {
      "cell_type": "markdown",
      "metadata": {
        "id": "CF9SLgb2JunE"
      },
      "source": [
        "Key Points to Remember:\n",
        "Object-Oriented Programming makes the program easy to understand as well as efficient.\n",
        "Since the class is sharable, the code can be reused.\n",
        "Data is safe and secure with data abstraction.\n",
        "Polymorphism allows the same interface for different objects, so programmers can write efficient code."
      ]
    },
    {
      "cell_type": "markdown",
      "metadata": {
        "id": "Tn-Om3GsL7sW"
      },
      "source": [
        "Methods like .__init__() and .__str__() are called dunder methods because they begin and end with double underscores. There are many dunder methods that you can use to customize classes in Python. Although too advanced a topic for a beginning Python book, understanding dunder methods is an important part of mastering object-oriented programming in Python."
      ]
    },
    {
      "cell_type": "markdown",
      "metadata": {
        "id": "cgL_SsxFM9yG"
      },
      "source": [
        "Instead of using the normal statements to access attributes, you can use the following functions −\n",
        "\n",
        "The getattr(obj, name[, default]) − to access the attribute of object.\n",
        "\n",
        "The hasattr(obj,name) − to check if an attribute exists or not.\n",
        "\n",
        "The setattr(obj,name,value) − to set an attribute. If attribute does not exist, then it would be created.\n",
        "\n",
        "The delattr(obj, name) − to delete an attribute."
      ]
    },
    {
      "cell_type": "code",
      "execution_count": 64,
      "metadata": {
        "colab": {
          "base_uri": "https://localhost:8080/"
        },
        "id": "0dL4rde9NNgh",
        "outputId": "0429eb3d-98fe-4962-8061-4c5df67ac2ab"
      },
      "outputs": [
        {
          "name": "stdout",
          "output_type": "stream",
          "text": [
            "Employee.__doc__: None\n",
            "Employee.__name__: Employee\n",
            "Employee.__module__: __main__\n",
            "Employee.__bases__: (<class 'object'>,)\n",
            "Employee.__dict__: {'__module__': '__main__', 'empCount': 0, '__init__': <function Employee.__init__ at 0x7f9f770782f0>, 'displayCount': <function Employee.displayCount at 0x7f9f77078048>, 'displayEmployee': <function Employee.displayEmployee at 0x7f9f77078d08>, '__dict__': <attribute '__dict__' of 'Employee' objects>, '__weakref__': <attribute '__weakref__' of 'Employee' objects>, '__doc__': None}\n"
          ]
        }
      ],
      "source": [
        "\n",
        "class Employee:\n",
        "   #'Common base class for all employees'\n",
        "   empCount = 0\n",
        "\n",
        "   def __init__(self, name, salary):\n",
        "      self.name = name\n",
        "      self.salary = salary\n",
        "      Employee.empCount += 1\n",
        "   \n",
        "   def displayCount(self):\n",
        "     print (\"Total Employee %d\" % Employee.empCount)\n",
        "\n",
        "   def displayEmployee(self):\n",
        "      print (\"Name : \", self.name,  \", Salary: \", self.salary)\n",
        "\n",
        "print (\"Employee.__doc__:\", Employee.__doc__)\n",
        "print (\"Employee.__name__:\", Employee.__name__)\n",
        "print (\"Employee.__module__:\", Employee.__module__)\n",
        "print (\"Employee.__bases__:\", Employee.__bases__)\n",
        "print (\"Employee.__dict__:\", Employee.__dict__)"
      ]
    },
    {
      "cell_type": "markdown",
      "metadata": {
        "id": "Se2zX9XaNJKU"
      },
      "source": [
        "Built-In Class Attributes\n",
        "Every Python class keeps following built-in attributes and they can be accessed using dot operator like any other attribute −\n",
        "\n",
        "__dict__ − Dictionary containing the class's namespace.\n",
        "\n",
        "__doc__ − Class documentation string or none, if undefined.\n",
        "\n",
        "__name__ − Class name.\n",
        "\n",
        "__module__ − Module name in which the class is defined. This attribute is \"__main__\" in interactive mode.\n",
        "\n",
        "__bases__ − A possibly empty tuple containing the base classes, in the order of their occurrence in the base class list.\n",
        "\n",
        "For the above class let us try to access all these attributes −"
      ]
    },
    {
      "cell_type": "markdown",
      "metadata": {
        "id": "J6zcT1FkNWHX"
      },
      "source": [
        "Destroying Objects (Garbage Collection)\n",
        "Python deletes unneeded objects (built-in types or class instances) automatically to free the memory space. The process by which Python periodically reclaims blocks of memory that no longer are in use is termed Garbage Collection.\n",
        "\n",
        "Python's garbage collector runs during program execution and is triggered when an object's reference count reaches zero. An object's reference count changes as the number of aliases that point to it changes.\n",
        "\n",
        "An object's reference count increases when it is assigned a new name or placed in a container (list, tuple, or dictionary). The object's reference count decreases when it's deleted with del, its reference is reassigned, or its reference goes out of scope. When an object's reference count reaches zero, Python collects it automatically."
      ]
    },
    {
      "cell_type": "code",
      "execution_count": 66,
      "metadata": {
        "id": "piz3BNCwNXXA"
      },
      "outputs": [],
      "source": [
        "a = 40      # Create object <40>\n",
        "b = a       # Increase ref. count  of <40> \n",
        "c = [b]     # Increase ref. count  of <40> \n",
        "\n",
        "del a       # Decrease ref. count  of <40>\n",
        "b = 100     # Decrease ref. count  of <40> \n",
        "c[0] = -1   # Decrease ref. count  of <40> "
      ]
    },
    {
      "cell_type": "markdown",
      "metadata": {
        "id": "7Mqu63vaNf2X"
      },
      "source": [
        "Example\n",
        "This __del__() destructor prints the class name of an instance that is about to be destroyed −"
      ]
    },
    {
      "cell_type": "code",
      "execution_count": 70,
      "metadata": {
        "colab": {
          "base_uri": "https://localhost:8080/"
        },
        "id": "wJJzyNMFNjmI",
        "outputId": "f9beb800-5f69-409b-d40d-03979b4b1377"
      },
      "outputs": [
        {
          "name": "stdout",
          "output_type": "stream",
          "text": [
            "140322873198912 140322873198912 140322873198912\n",
            "Point destroyed\n"
          ]
        }
      ],
      "source": [
        "#!/usr/bin/python\n",
        "\n",
        "class Point:\n",
        "   def __init__( self, x=0, y=0):\n",
        "      self.x = x\n",
        "      self.y = y\n",
        "   def __del__(self):\n",
        "      class_name = self.__class__.__name__\n",
        "      print (class_name, \"destroyed\")\n",
        "\n",
        "pt1 = Point()\n",
        "pt2 = pt1\n",
        "pt3 = pt1\n",
        "print(id(pt1), id(pt2), id(pt3)) # prints the ids of the obejcts\n",
        "del pt1\n",
        "del pt2\n",
        "del pt3"
      ]
    },
    {
      "cell_type": "markdown",
      "metadata": {
        "id": "QKHt-mzaNqeC"
      },
      "source": [
        "When the above code is executed, it produces following result −\n",
        "3083401324 3083401324 3083401324\n",
        "Point destroyed\n"
      ]
    },
    {
      "cell_type": "markdown",
      "metadata": {
        "id": "18gWsSmZN9yn"
      },
      "source": [
        "Note − Ideally, you should define your classes in separate file, then you should import them in your main program file using import statement.\n",
        "\n",
        "Class Inheritance\n",
        "Instead of starting from scratch, you can create a class by deriving it from a preexisting class by listing the parent class in parentheses after the new class name.\n",
        "\n",
        "The child class inherits the attributes of its parent class, and you can use those attributes as if they were defined in the child class. A child class can also override data members and methods from the parent."
      ]
    },
    {
      "cell_type": "markdown",
      "metadata": {
        "id": "xzm-BVnRODH6"
      },
      "source": [
        "Syntax\n",
        "Derived classes are declared much like their parent class; however, a list of base classes to inherit from is given after the class name −\n",
        "\n",
        "class SubClassName (ParentClass1[, ParentClass2, ...]):\n",
        "   'Optional class documentation string'\n",
        "   class_suite"
      ]
    },
    {
      "cell_type": "code",
      "execution_count": 73,
      "metadata": {
        "colab": {
          "base_uri": "https://localhost:8080/"
        },
        "id": "dDdxtVZKN_mZ",
        "outputId": "83ea7280-09ba-487e-d9de-c72706ba157f"
      },
      "outputs": [
        {
          "name": "stdout",
          "output_type": "stream",
          "text": [
            "Calling child constructor\n",
            "Calling child method\n",
            "Calling parent method\n",
            "Parent attribute : 200\n"
          ]
        }
      ],
      "source": [
        "\n",
        "class Parent:        # define parent class\n",
        "   parentAttr = 100\n",
        "   def __init__(self):\n",
        "      print (\"Calling parent constructor\")\n",
        "\n",
        "   def parentMethod(self):\n",
        "      print ('Calling parent method')\n",
        "\n",
        "   def setAttr(self, attr):\n",
        "      Parent.parentAttr = attr\n",
        "\n",
        "   def getAttr(self):\n",
        "      print (\"Parent attribute :\", Parent.parentAttr)\n",
        "\n",
        "class Child(Parent): # define child class\n",
        "   def __init__(self):\n",
        "      print (\"Calling child constructor\")\n",
        "\n",
        "   def childMethod(self):\n",
        "      print ('Calling child method')\n",
        "\n",
        "c = Child()          # instance of child\n",
        "c.childMethod()      # child calls its method\n",
        "c.parentMethod()     # calls parent's method\n",
        "c.setAttr(200)       # again call parent's method\n",
        "c.getAttr()          # again call parent's method"
      ]
    },
    {
      "cell_type": "markdown",
      "metadata": {
        "id": "blSd7qjGOQxA"
      },
      "source": [
        "Similar way, you can drive a class from multiple parent classes as follows −\n",
        "\n",
        "class A:        # define your class A\n",
        ".....\n",
        "\n",
        "class B:         # define your class B\n",
        ".....\n",
        "\n",
        "class C(A, B):   # subclass of A and B\n",
        "....."
      ]
    },
    {
      "cell_type": "markdown",
      "metadata": {
        "id": "_J8sIvFlOV7R"
      },
      "source": [
        "You can use issubclass() or isinstance() functions to check a relationships of two classes and instances.\n",
        "\n",
        "The issubclass(sub, sup) boolean function returns true if the given subclass sub is indeed a subclass of the superclass sup.\n",
        "\n",
        "The isinstance(obj, Class) boolean function returns true if obj is an instance of class Class or is an instance of a subclass of Class"
      ]
    },
    {
      "cell_type": "markdown",
      "metadata": {
        "id": "2tGO4VXKOY_j"
      },
      "source": [
        "Overriding Methods\n",
        "You can always override your parent class methods. One reason for overriding parent's methods is because you may want special or different functionality in your subclass.\n",
        "\n",
        "Example"
      ]
    },
    {
      "cell_type": "code",
      "execution_count": 76,
      "metadata": {
        "colab": {
          "base_uri": "https://localhost:8080/"
        },
        "id": "2l3WABcWOaBH",
        "outputId": "c70180b7-7d08-4842-8558-65820c2d2e57"
      },
      "outputs": [
        {
          "name": "stdout",
          "output_type": "stream",
          "text": [
            "Calling child method\n"
          ]
        }
      ],
      "source": [
        "class Parent:        # define parent class\n",
        "   def myMethod(self):\n",
        "      print ('Calling parent method')\n",
        "\n",
        "class Child(Parent): # define child class\n",
        "   def myMethod(self):\n",
        "      print ('Calling child method')\n",
        "\n",
        "c = Child()          # instance of child\n",
        "c.myMethod()         # child calls overridden method"
      ]
    }
  ],
  "metadata": {
    "colab": {
      "name": "OOP",
      "provenance": []
    },
    "kernelspec": {
      "display_name": "Python 3",
      "name": "python3"
    }
  },
  "nbformat": 4,
  "nbformat_minor": 0
}
